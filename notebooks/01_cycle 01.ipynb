{
 "cells": [
  {
   "cell_type": "markdown",
   "metadata": {},
   "source": [
    "# Entender o Problema"
   ]
  },
  {
   "cell_type": "markdown",
   "metadata": {},
   "source": [
    "- Objetivo do Problema:\n",
    "    - Predição de qual país será o primeiro destino de reserva de um novo usuário;\n",
    "    - Porque?\n",
    "        - Qual o tipo de modelo de negócio do Airbnb?\n",
    "            - Marketplace (conecta pessoas que oferecem acomodação, com pessoas que estão procurando acomodação)\n",
    "            - Oferta (pessoas oferecendo acomodação)\n",
    "                - Tamanho do portifólio\n",
    "                - Diversisdade/Densidade de Portfólio\n",
    "                - preço Médio\n",
    "            - Demanda (pessoas procurando acomodação)\n",
    "                - Número de Usuários\n",
    "                - LTV (Lifetime Value)\n",
    "                - CAC ( Client Acquisition Cost)\n",
    "\n",
    "        Gross Revenue = (Fee*Numero cliente) - CAC"
   ]
  },
  {
   "cell_type": "markdown",
   "metadata": {},
   "source": [
    "- Proposta de Solução:\n",
    "    - Modelo de Previsão do primeiro destino de um novo usuário\n",
    "    - 1.0. Predições salvas em uma tabela do banco de dados\n",
    "    - 2.0. API\n",
    "        - Input: usuário e suas características\n",
    "        - Output: usuário e suas características com a predição de destino"
   ]
  },
  {
   "cell_type": "markdown",
   "metadata": {},
   "source": [
    "# <font color='red'>Ciclo 01: End to End</font>"
   ]
  },
  {
   "cell_type": "markdown",
   "metadata": {},
   "source": [
    "# 0.0. Imports"
   ]
  },
  {
   "cell_type": "code",
   "execution_count": 53,
   "metadata": {},
   "outputs": [],
   "source": [
    "import pandas as pd\n",
    "import numpy as np\n",
    "from sklearn.model_selection import train_test_split\n",
    "from sklearn import preprocessing as pp\n",
    "from sklearn import metrics as m\n",
    "from scikitplot import metrics as mt\n",
    "\n",
    "from keras import models as ml\n",
    "from keras.layers import Dense, Dropout"
   ]
  },
  {
   "cell_type": "markdown",
   "metadata": {},
   "source": [
    "## 0.1. Helper Functions"
   ]
  },
  {
   "cell_type": "markdown",
   "metadata": {},
   "source": [
    "## 0.2. Loading Data"
   ]
  },
  {
   "cell_type": "code",
   "execution_count": 2,
   "metadata": {},
   "outputs": [
    {
     "data": {
      "text/plain": [
       "(213451, 16)"
      ]
     },
     "execution_count": 2,
     "metadata": {},
     "output_type": "execute_result"
    }
   ],
   "source": [
    "df_users_raw = pd.read_csv('../data/train_users_2.csv', low_memory=True)\n",
    "\n",
    "df_sessions_raw = pd.read_csv('../data/sessions.csv', low_memory=True)\n",
    "\n",
    "df_users_raw.shape"
   ]
  },
  {
   "cell_type": "markdown",
   "metadata": {},
   "source": [
    "# 1.0 Data Description"
   ]
  },
  {
   "cell_type": "code",
   "execution_count": 4,
   "metadata": {},
   "outputs": [],
   "source": [
    "df1 = df_users_raw.copy()"
   ]
  },
  {
   "cell_type": "markdown",
   "metadata": {},
   "source": [
    "## 1.1. Data Dimension"
   ]
  },
  {
   "cell_type": "code",
   "execution_count": 5,
   "metadata": {},
   "outputs": [
    {
     "name": "stdout",
     "output_type": "stream",
     "text": [
      "Number of rows 213451\n",
      "Number of columns 16\n"
     ]
    }
   ],
   "source": [
    "print('Number of rows {}'.format(df1.shape[0]))\n",
    "print('Number of columns {}'.format(df1.shape[1]))"
   ]
  },
  {
   "cell_type": "markdown",
   "metadata": {},
   "source": [
    "## 1.2. Data Types"
   ]
  },
  {
   "cell_type": "code",
   "execution_count": 6,
   "metadata": {},
   "outputs": [
    {
     "data": {
      "text/plain": [
       "id                          object\n",
       "date_account_created        object\n",
       "timestamp_first_active       int64\n",
       "date_first_booking          object\n",
       "gender                      object\n",
       "age                        float64\n",
       "signup_method               object\n",
       "signup_flow                  int64\n",
       "language                    object\n",
       "affiliate_channel           object\n",
       "affiliate_provider          object\n",
       "first_affiliate_tracked     object\n",
       "signup_app                  object\n",
       "first_device_type           object\n",
       "first_browser               object\n",
       "country_destination         object\n",
       "dtype: object"
      ]
     },
     "execution_count": 6,
     "metadata": {},
     "output_type": "execute_result"
    }
   ],
   "source": [
    "df1.dtypes"
   ]
  },
  {
   "cell_type": "code",
   "execution_count": 7,
   "metadata": {},
   "outputs": [
    {
     "data": {
      "text/html": [
       "<div>\n",
       "<style scoped>\n",
       "    .dataframe tbody tr th:only-of-type {\n",
       "        vertical-align: middle;\n",
       "    }\n",
       "\n",
       "    .dataframe tbody tr th {\n",
       "        vertical-align: top;\n",
       "    }\n",
       "\n",
       "    .dataframe thead th {\n",
       "        text-align: right;\n",
       "    }\n",
       "</style>\n",
       "<table border=\"1\" class=\"dataframe\">\n",
       "  <thead>\n",
       "    <tr style=\"text-align: right;\">\n",
       "      <th></th>\n",
       "      <th>0</th>\n",
       "      <th>1</th>\n",
       "      <th>2</th>\n",
       "      <th>3</th>\n",
       "      <th>4</th>\n",
       "    </tr>\n",
       "  </thead>\n",
       "  <tbody>\n",
       "    <tr>\n",
       "      <th>id</th>\n",
       "      <td>gxn3p5htnn</td>\n",
       "      <td>820tgsjxq7</td>\n",
       "      <td>4ft3gnwmtx</td>\n",
       "      <td>bjjt8pjhuk</td>\n",
       "      <td>87mebub9p4</td>\n",
       "    </tr>\n",
       "    <tr>\n",
       "      <th>date_account_created</th>\n",
       "      <td>2010-06-28</td>\n",
       "      <td>2011-05-25</td>\n",
       "      <td>2010-09-28</td>\n",
       "      <td>2011-12-05</td>\n",
       "      <td>2010-09-14</td>\n",
       "    </tr>\n",
       "    <tr>\n",
       "      <th>timestamp_first_active</th>\n",
       "      <td>20090319043255</td>\n",
       "      <td>20090523174809</td>\n",
       "      <td>20090609231247</td>\n",
       "      <td>20091031060129</td>\n",
       "      <td>20091208061105</td>\n",
       "    </tr>\n",
       "    <tr>\n",
       "      <th>date_first_booking</th>\n",
       "      <td>NaN</td>\n",
       "      <td>NaN</td>\n",
       "      <td>2010-08-02</td>\n",
       "      <td>2012-09-08</td>\n",
       "      <td>2010-02-18</td>\n",
       "    </tr>\n",
       "    <tr>\n",
       "      <th>gender</th>\n",
       "      <td>-unknown-</td>\n",
       "      <td>MALE</td>\n",
       "      <td>FEMALE</td>\n",
       "      <td>FEMALE</td>\n",
       "      <td>-unknown-</td>\n",
       "    </tr>\n",
       "    <tr>\n",
       "      <th>age</th>\n",
       "      <td>NaN</td>\n",
       "      <td>38.0</td>\n",
       "      <td>56.0</td>\n",
       "      <td>42.0</td>\n",
       "      <td>41.0</td>\n",
       "    </tr>\n",
       "    <tr>\n",
       "      <th>signup_method</th>\n",
       "      <td>facebook</td>\n",
       "      <td>facebook</td>\n",
       "      <td>basic</td>\n",
       "      <td>facebook</td>\n",
       "      <td>basic</td>\n",
       "    </tr>\n",
       "    <tr>\n",
       "      <th>signup_flow</th>\n",
       "      <td>0</td>\n",
       "      <td>0</td>\n",
       "      <td>3</td>\n",
       "      <td>0</td>\n",
       "      <td>0</td>\n",
       "    </tr>\n",
       "    <tr>\n",
       "      <th>language</th>\n",
       "      <td>en</td>\n",
       "      <td>en</td>\n",
       "      <td>en</td>\n",
       "      <td>en</td>\n",
       "      <td>en</td>\n",
       "    </tr>\n",
       "    <tr>\n",
       "      <th>affiliate_channel</th>\n",
       "      <td>direct</td>\n",
       "      <td>seo</td>\n",
       "      <td>direct</td>\n",
       "      <td>direct</td>\n",
       "      <td>direct</td>\n",
       "    </tr>\n",
       "    <tr>\n",
       "      <th>affiliate_provider</th>\n",
       "      <td>direct</td>\n",
       "      <td>google</td>\n",
       "      <td>direct</td>\n",
       "      <td>direct</td>\n",
       "      <td>direct</td>\n",
       "    </tr>\n",
       "    <tr>\n",
       "      <th>first_affiliate_tracked</th>\n",
       "      <td>untracked</td>\n",
       "      <td>untracked</td>\n",
       "      <td>untracked</td>\n",
       "      <td>untracked</td>\n",
       "      <td>untracked</td>\n",
       "    </tr>\n",
       "    <tr>\n",
       "      <th>signup_app</th>\n",
       "      <td>Web</td>\n",
       "      <td>Web</td>\n",
       "      <td>Web</td>\n",
       "      <td>Web</td>\n",
       "      <td>Web</td>\n",
       "    </tr>\n",
       "    <tr>\n",
       "      <th>first_device_type</th>\n",
       "      <td>Mac Desktop</td>\n",
       "      <td>Mac Desktop</td>\n",
       "      <td>Windows Desktop</td>\n",
       "      <td>Mac Desktop</td>\n",
       "      <td>Mac Desktop</td>\n",
       "    </tr>\n",
       "    <tr>\n",
       "      <th>first_browser</th>\n",
       "      <td>Chrome</td>\n",
       "      <td>Chrome</td>\n",
       "      <td>IE</td>\n",
       "      <td>Firefox</td>\n",
       "      <td>Chrome</td>\n",
       "    </tr>\n",
       "    <tr>\n",
       "      <th>country_destination</th>\n",
       "      <td>NDF</td>\n",
       "      <td>NDF</td>\n",
       "      <td>US</td>\n",
       "      <td>other</td>\n",
       "      <td>US</td>\n",
       "    </tr>\n",
       "  </tbody>\n",
       "</table>\n",
       "</div>"
      ],
      "text/plain": [
       "                                      0               1                2  \\\n",
       "id                           gxn3p5htnn      820tgsjxq7       4ft3gnwmtx   \n",
       "date_account_created         2010-06-28      2011-05-25       2010-09-28   \n",
       "timestamp_first_active   20090319043255  20090523174809   20090609231247   \n",
       "date_first_booking                  NaN             NaN       2010-08-02   \n",
       "gender                        -unknown-            MALE           FEMALE   \n",
       "age                                 NaN            38.0             56.0   \n",
       "signup_method                  facebook        facebook            basic   \n",
       "signup_flow                           0               0                3   \n",
       "language                             en              en               en   \n",
       "affiliate_channel                direct             seo           direct   \n",
       "affiliate_provider               direct          google           direct   \n",
       "first_affiliate_tracked       untracked       untracked        untracked   \n",
       "signup_app                          Web             Web              Web   \n",
       "first_device_type           Mac Desktop     Mac Desktop  Windows Desktop   \n",
       "first_browser                    Chrome          Chrome               IE   \n",
       "country_destination                 NDF             NDF               US   \n",
       "\n",
       "                                      3               4  \n",
       "id                           bjjt8pjhuk      87mebub9p4  \n",
       "date_account_created         2011-12-05      2010-09-14  \n",
       "timestamp_first_active   20091031060129  20091208061105  \n",
       "date_first_booking           2012-09-08      2010-02-18  \n",
       "gender                           FEMALE       -unknown-  \n",
       "age                                42.0            41.0  \n",
       "signup_method                  facebook           basic  \n",
       "signup_flow                           0               0  \n",
       "language                             en              en  \n",
       "affiliate_channel                direct          direct  \n",
       "affiliate_provider               direct          direct  \n",
       "first_affiliate_tracked       untracked       untracked  \n",
       "signup_app                          Web             Web  \n",
       "first_device_type           Mac Desktop     Mac Desktop  \n",
       "first_browser                   Firefox          Chrome  \n",
       "country_destination               other              US  "
      ]
     },
     "execution_count": 7,
     "metadata": {},
     "output_type": "execute_result"
    }
   ],
   "source": [
    "df1.head().T"
   ]
  },
  {
   "cell_type": "markdown",
   "metadata": {},
   "source": [
    "## 1.3. Check NAs"
   ]
  },
  {
   "cell_type": "code",
   "execution_count": 8,
   "metadata": {},
   "outputs": [
    {
     "data": {
      "text/plain": [
       "id                              0\n",
       "date_account_created            0\n",
       "timestamp_first_active          0\n",
       "date_first_booking         124543\n",
       "gender                          0\n",
       "age                         87990\n",
       "signup_method                   0\n",
       "signup_flow                     0\n",
       "language                        0\n",
       "affiliate_channel               0\n",
       "affiliate_provider              0\n",
       "first_affiliate_tracked      6065\n",
       "signup_app                      0\n",
       "first_device_type               0\n",
       "first_browser                   0\n",
       "country_destination             0\n",
       "dtype: int64"
      ]
     },
     "execution_count": 8,
     "metadata": {},
     "output_type": "execute_result"
    }
   ],
   "source": [
    "df1.isna().sum()"
   ]
  },
  {
   "cell_type": "code",
   "execution_count": 9,
   "metadata": {},
   "outputs": [
    {
     "data": {
      "text/plain": [
       "(68171, 16)"
      ]
     },
     "execution_count": 9,
     "metadata": {},
     "output_type": "execute_result"
    }
   ],
   "source": [
    "# remiove missing values\n",
    "df1 = df1.dropna()\n",
    "df1.shape"
   ]
  },
  {
   "cell_type": "markdown",
   "metadata": {},
   "source": [
    "## 1.4. Change Types"
   ]
  },
  {
   "cell_type": "code",
   "execution_count": 10,
   "metadata": {},
   "outputs": [],
   "source": [
    "# date_account_created\n",
    "df1['date_account_created'] = pd.to_datetime(df1['date_account_created'], format='%Y-%m-%d')\n",
    "\n",
    "# timestamp_first_active\n",
    "df1['timestamp_first_active'] = pd.to_datetime(df1['timestamp_first_active'], format='%Y%m%d%H%M%S')\n",
    "\n",
    "# date_first_booking\n",
    "df1['date_first_booking'] = pd.to_datetime(df1['date_first_booking'], format='%Y-%m-%d')\n",
    "\n",
    "# age\n",
    "df1['age'] = df1['age'].astype(int)"
   ]
  },
  {
   "cell_type": "code",
   "execution_count": 11,
   "metadata": {},
   "outputs": [
    {
     "data": {
      "text/plain": [
       "id                                 object\n",
       "date_account_created       datetime64[ns]\n",
       "timestamp_first_active     datetime64[ns]\n",
       "date_first_booking         datetime64[ns]\n",
       "gender                             object\n",
       "age                                 int64\n",
       "signup_method                      object\n",
       "signup_flow                         int64\n",
       "language                           object\n",
       "affiliate_channel                  object\n",
       "affiliate_provider                 object\n",
       "first_affiliate_tracked            object\n",
       "signup_app                         object\n",
       "first_device_type                  object\n",
       "first_browser                      object\n",
       "country_destination                object\n",
       "dtype: object"
      ]
     },
     "execution_count": 11,
     "metadata": {},
     "output_type": "execute_result"
    }
   ],
   "source": [
    "df1.dtypes"
   ]
  },
  {
   "cell_type": "markdown",
   "metadata": {},
   "source": [
    "## 1.5 Check Balanced Data"
   ]
  },
  {
   "cell_type": "code",
   "execution_count": 12,
   "metadata": {},
   "outputs": [
    {
     "data": {
      "text/plain": [
       "US       0.708864\n",
       "other    0.110854\n",
       "FR       0.054085\n",
       "IT       0.029763\n",
       "GB       0.025935\n",
       "ES       0.024864\n",
       "CA       0.015696\n",
       "DE       0.012454\n",
       "NL       0.008801\n",
       "AU       0.006366\n",
       "PT       0.002318\n",
       "Name: country_destination, dtype: float64"
      ]
     },
     "execution_count": 12,
     "metadata": {},
     "output_type": "execute_result"
    }
   ],
   "source": [
    "# response variable is the columns country_destination\n",
    "df1['country_destination'].value_counts(normalize=True)"
   ]
  },
  {
   "cell_type": "markdown",
   "metadata": {},
   "source": [
    "# 2.0. Feature Engineering"
   ]
  },
  {
   "cell_type": "code",
   "execution_count": 13,
   "metadata": {},
   "outputs": [],
   "source": [
    "df2 = df1.copy()"
   ]
  },
  {
   "cell_type": "markdown",
   "metadata": {},
   "source": [
    "# 3.0. Feature Filtering"
   ]
  },
  {
   "cell_type": "markdown",
   "metadata": {},
   "source": [
    "## 3.1. Filtering Rows"
   ]
  },
  {
   "cell_type": "markdown",
   "metadata": {},
   "source": [
    "## 3.2 Columns Selection"
   ]
  },
  {
   "cell_type": "markdown",
   "metadata": {},
   "source": [
    "# 4.0. Exploratory Data Analysis"
   ]
  },
  {
   "cell_type": "markdown",
   "metadata": {},
   "source": [
    "# 5.0. Data Preparation"
   ]
  },
  {
   "cell_type": "code",
   "execution_count": 14,
   "metadata": {},
   "outputs": [],
   "source": [
    "df5 = df2.copy()"
   ]
  },
  {
   "cell_type": "code",
   "execution_count": 15,
   "metadata": {},
   "outputs": [],
   "source": [
    "# dummy variable\n",
    "df5_dummy = pd.get_dummies(df5.drop(['id', 'country_destination'], axis=1))\n",
    "\n",
    "# join id and country destination\n",
    "df5 = pd.concat([df5[['id', 'country_destination']], df5_dummy], axis=1)"
   ]
  },
  {
   "cell_type": "markdown",
   "metadata": {},
   "source": [
    "# 6.0 Feature Selection"
   ]
  },
  {
   "cell_type": "code",
   "execution_count": 16,
   "metadata": {},
   "outputs": [],
   "source": [
    "df6 = df5.copy()\n",
    "cols_drop = ['id', 'date_account_created', 'timestamp_first_active', 'date_first_booking'] #original dates\n",
    "\n",
    "df6 = df6.drop(cols_drop, axis=1)"
   ]
  },
  {
   "cell_type": "markdown",
   "metadata": {},
   "source": [
    "# 7.0. Machine Learn Model - Neural Network MLP"
   ]
  },
  {
   "cell_type": "code",
   "execution_count": 17,
   "metadata": {},
   "outputs": [],
   "source": [
    "X = df6.drop('country_destination', axis=1)\n",
    "y = df6[['country_destination']]"
   ]
  },
  {
   "cell_type": "code",
   "execution_count": 18,
   "metadata": {},
   "outputs": [],
   "source": [
    "# Split data into train and test set\n",
    "X_train, X_test, y_train, y_test = train_test_split(X, y, test_size=0.2, random_state=32)"
   ]
  },
  {
   "cell_type": "code",
   "execution_count": 19,
   "metadata": {},
   "outputs": [],
   "source": [
    "# Categorically encode labels\n",
    "ohe = pp.OneHotEncoder()\n",
    "y_train_nn = ohe.fit_transform(y_train.values.reshape(-1,1)).toarray()"
   ]
  },
  {
   "cell_type": "code",
   "execution_count": 20,
   "metadata": {},
   "outputs": [
    {
     "name": "stderr",
     "output_type": "stream",
     "text": [
      "2021-10-11 05:45:23.592537: I tensorflow/stream_executor/platform/default/dso_loader.cc:44] Successfully opened dynamic library libcuda.so.1\n",
      "2021-10-11 05:45:23.655738: I tensorflow/stream_executor/cuda/cuda_gpu_executor.cc:981] successful NUMA node read from SysFS had negative value (-1), but there must be at least one NUMA node, so returning NUMA node zero\n",
      "2021-10-11 05:45:23.656223: I tensorflow/core/common_runtime/gpu/gpu_device.cc:1561] Found device 0 with properties: \n",
      "pciBusID: 0000:01:00.0 name: NVIDIA GeForce RTX 2060 computeCapability: 7.5\n",
      "coreClock: 1.695GHz coreCount: 30 deviceMemorySize: 5.79GiB deviceMemoryBandwidth: 312.97GiB/s\n",
      "2021-10-11 05:45:24.038114: I tensorflow/stream_executor/platform/default/dso_loader.cc:44] Successfully opened dynamic library libcudart.so.10.1\n",
      "2021-10-11 05:45:24.960679: I tensorflow/stream_executor/platform/default/dso_loader.cc:44] Successfully opened dynamic library libcublas.so.10\n",
      "2021-10-11 05:45:25.153835: I tensorflow/stream_executor/platform/default/dso_loader.cc:44] Successfully opened dynamic library libcufft.so.10\n",
      "2021-10-11 05:45:25.203321: I tensorflow/stream_executor/platform/default/dso_loader.cc:44] Successfully opened dynamic library libcurand.so.10\n",
      "2021-10-11 05:45:25.490161: I tensorflow/stream_executor/platform/default/dso_loader.cc:44] Successfully opened dynamic library libcusolver.so.10\n",
      "2021-10-11 05:45:25.544147: I tensorflow/stream_executor/platform/default/dso_loader.cc:44] Successfully opened dynamic library libcusparse.so.10\n",
      "2021-10-11 05:45:26.100249: I tensorflow/stream_executor/platform/default/dso_loader.cc:44] Successfully opened dynamic library libcudnn.so.7\n",
      "2021-10-11 05:45:26.100669: I tensorflow/stream_executor/cuda/cuda_gpu_executor.cc:981] successful NUMA node read from SysFS had negative value (-1), but there must be at least one NUMA node, so returning NUMA node zero\n",
      "2021-10-11 05:45:26.103626: I tensorflow/stream_executor/cuda/cuda_gpu_executor.cc:981] successful NUMA node read from SysFS had negative value (-1), but there must be at least one NUMA node, so returning NUMA node zero\n",
      "2021-10-11 05:45:26.105162: I tensorflow/core/common_runtime/gpu/gpu_device.cc:1703] Adding visible gpu devices: 0\n",
      "2021-10-11 05:45:26.107397: I tensorflow/core/platform/cpu_feature_guard.cc:143] Your CPU supports instructions that this TensorFlow binary was not compiled to use: SSE4.1 SSE4.2 AVX AVX2 FMA\n",
      "2021-10-11 05:45:26.242602: I tensorflow/core/platform/profile_utils/cpu_utils.cc:102] CPU Frequency: 3699850000 Hz\n",
      "2021-10-11 05:45:26.248734: I tensorflow/compiler/xla/service/service.cc:168] XLA service 0x55b444108400 initialized for platform Host (this does not guarantee that XLA will be used). Devices:\n",
      "2021-10-11 05:45:26.248814: I tensorflow/compiler/xla/service/service.cc:176]   StreamExecutor device (0): Host, Default Version\n",
      "2021-10-11 05:45:26.250065: I tensorflow/stream_executor/cuda/cuda_gpu_executor.cc:981] successful NUMA node read from SysFS had negative value (-1), but there must be at least one NUMA node, so returning NUMA node zero\n",
      "2021-10-11 05:45:26.254043: I tensorflow/core/common_runtime/gpu/gpu_device.cc:1561] Found device 0 with properties: \n",
      "pciBusID: 0000:01:00.0 name: NVIDIA GeForce RTX 2060 computeCapability: 7.5\n",
      "coreClock: 1.695GHz coreCount: 30 deviceMemorySize: 5.79GiB deviceMemoryBandwidth: 312.97GiB/s\n",
      "2021-10-11 05:45:26.254273: I tensorflow/stream_executor/platform/default/dso_loader.cc:44] Successfully opened dynamic library libcudart.so.10.1\n",
      "2021-10-11 05:45:26.254358: I tensorflow/stream_executor/platform/default/dso_loader.cc:44] Successfully opened dynamic library libcublas.so.10\n",
      "2021-10-11 05:45:26.254424: I tensorflow/stream_executor/platform/default/dso_loader.cc:44] Successfully opened dynamic library libcufft.so.10\n",
      "2021-10-11 05:45:26.254489: I tensorflow/stream_executor/platform/default/dso_loader.cc:44] Successfully opened dynamic library libcurand.so.10\n",
      "2021-10-11 05:45:26.254553: I tensorflow/stream_executor/platform/default/dso_loader.cc:44] Successfully opened dynamic library libcusolver.so.10\n",
      "2021-10-11 05:45:26.254615: I tensorflow/stream_executor/platform/default/dso_loader.cc:44] Successfully opened dynamic library libcusparse.so.10\n",
      "2021-10-11 05:45:26.254677: I tensorflow/stream_executor/platform/default/dso_loader.cc:44] Successfully opened dynamic library libcudnn.so.7\n",
      "2021-10-11 05:45:26.254952: I tensorflow/stream_executor/cuda/cuda_gpu_executor.cc:981] successful NUMA node read from SysFS had negative value (-1), but there must be at least one NUMA node, so returning NUMA node zero\n",
      "2021-10-11 05:45:26.256239: I tensorflow/stream_executor/cuda/cuda_gpu_executor.cc:981] successful NUMA node read from SysFS had negative value (-1), but there must be at least one NUMA node, so returning NUMA node zero\n",
      "2021-10-11 05:45:26.257227: I tensorflow/core/common_runtime/gpu/gpu_device.cc:1703] Adding visible gpu devices: 0\n",
      "2021-10-11 05:45:26.270137: I tensorflow/stream_executor/platform/default/dso_loader.cc:44] Successfully opened dynamic library libcudart.so.10.1\n",
      "2021-10-11 05:45:26.477182: I tensorflow/core/common_runtime/gpu/gpu_device.cc:1102] Device interconnect StreamExecutor with strength 1 edge matrix:\n",
      "2021-10-11 05:45:26.477256: I tensorflow/core/common_runtime/gpu/gpu_device.cc:1108]      0 \n",
      "2021-10-11 05:45:26.477278: I tensorflow/core/common_runtime/gpu/gpu_device.cc:1121] 0:   N \n",
      "2021-10-11 05:45:26.477753: I tensorflow/stream_executor/cuda/cuda_gpu_executor.cc:981] successful NUMA node read from SysFS had negative value (-1), but there must be at least one NUMA node, so returning NUMA node zero\n",
      "2021-10-11 05:45:26.479032: I tensorflow/stream_executor/cuda/cuda_gpu_executor.cc:981] successful NUMA node read from SysFS had negative value (-1), but there must be at least one NUMA node, so returning NUMA node zero\n",
      "2021-10-11 05:45:26.480203: I tensorflow/stream_executor/cuda/cuda_gpu_executor.cc:981] successful NUMA node read from SysFS had negative value (-1), but there must be at least one NUMA node, so returning NUMA node zero\n",
      "2021-10-11 05:45:26.481253: I tensorflow/core/common_runtime/gpu/gpu_device.cc:1247] Created TensorFlow device (/job:localhost/replica:0/task:0/device:GPU:0 with 5078 MB memory) -> physical GPU (device: 0, name: NVIDIA GeForce RTX 2060, pci bus id: 0000:01:00.0, compute capability: 7.5)\n",
      "2021-10-11 05:45:26.503281: I tensorflow/compiler/xla/service/service.cc:168] XLA service 0x55b445b88e90 initialized for platform CUDA (this does not guarantee that XLA will be used). Devices:\n",
      "2021-10-11 05:45:26.503362: I tensorflow/compiler/xla/service/service.cc:176]   StreamExecutor device (0): NVIDIA GeForce RTX 2060, Compute Capability 7.5\n"
     ]
    },
    {
     "name": "stdout",
     "output_type": "stream",
     "text": [
      "Epoch 1/100\n"
     ]
    },
    {
     "name": "stderr",
     "output_type": "stream",
     "text": [
      "2021-10-11 05:45:36.830918: I tensorflow/stream_executor/platform/default/dso_loader.cc:44] Successfully opened dynamic library libcublas.so.10\n"
     ]
    },
    {
     "name": "stdout",
     "output_type": "stream",
     "text": [
      "54536/54536 [==============================] - 7s 125us/step - loss: 1.2950 - accuracy: 0.7051\n",
      "Epoch 2/100\n",
      "54536/54536 [==============================] - 3s 60us/step - loss: 1.1593 - accuracy: 0.7088\n",
      "Epoch 3/100\n",
      "54536/54536 [==============================] - 3s 50us/step - loss: 1.1480 - accuracy: 0.7093\n",
      "Epoch 4/100\n",
      "54536/54536 [==============================] - 3s 61us/step - loss: 1.1442 - accuracy: 0.7096\n",
      "Epoch 5/100\n",
      "54536/54536 [==============================] - 3s 52us/step - loss: 1.1419 - accuracy: 0.7096\n",
      "Epoch 6/100\n",
      "54536/54536 [==============================] - 3s 55us/step - loss: 1.1410 - accuracy: 0.7095\n",
      "Epoch 7/100\n",
      "54536/54536 [==============================] - 3s 56us/step - loss: 1.1394 - accuracy: 0.7095\n",
      "Epoch 8/100\n",
      "54536/54536 [==============================] - 3s 54us/step - loss: 1.1389 - accuracy: 0.7096\n",
      "Epoch 9/100\n",
      "54536/54536 [==============================] - 3s 56us/step - loss: 1.1389 - accuracy: 0.7096\n",
      "Epoch 10/100\n",
      "54536/54536 [==============================] - 3s 58us/step - loss: 1.1359 - accuracy: 0.7096\n",
      "Epoch 11/100\n",
      "54536/54536 [==============================] - 3s 50us/step - loss: 1.1358 - accuracy: 0.7096\n",
      "Epoch 12/100\n",
      "54536/54536 [==============================] - 3s 53us/step - loss: 1.1344 - accuracy: 0.7096\n",
      "Epoch 13/100\n",
      "54536/54536 [==============================] - 3s 51us/step - loss: 1.1344 - accuracy: 0.7096\n",
      "Epoch 14/100\n",
      "54536/54536 [==============================] - 3s 50us/step - loss: 1.1322 - accuracy: 0.7096\n",
      "Epoch 15/100\n",
      "54536/54536 [==============================] - 3s 50us/step - loss: 1.1311 - accuracy: 0.7097\n",
      "Epoch 16/100\n",
      "54536/54536 [==============================] - 3s 51us/step - loss: 1.1300 - accuracy: 0.7097\n",
      "Epoch 17/100\n",
      "54536/54536 [==============================] - 3s 50us/step - loss: 1.1296 - accuracy: 0.7096\n",
      "Epoch 18/100\n",
      "54536/54536 [==============================] - 3s 52us/step - loss: 1.1282 - accuracy: 0.7097\n",
      "Epoch 19/100\n",
      "54536/54536 [==============================] - 3s 53us/step - loss: 1.1269 - accuracy: 0.7097\n",
      "Epoch 20/100\n",
      "54536/54536 [==============================] - 3s 53us/step - loss: 1.1266 - accuracy: 0.7097\n",
      "Epoch 21/100\n",
      "54536/54536 [==============================] - 3s 51us/step - loss: 1.1257 - accuracy: 0.7097\n",
      "Epoch 22/100\n",
      "54536/54536 [==============================] - 3s 53us/step - loss: 1.1252 - accuracy: 0.7096\n",
      "Epoch 23/100\n",
      "54536/54536 [==============================] - 3s 53us/step - loss: 1.1243 - accuracy: 0.7098\n",
      "Epoch 24/100\n",
      "54536/54536 [==============================] - 3s 51us/step - loss: 1.1227 - accuracy: 0.7098\n",
      "Epoch 25/100\n",
      "54536/54536 [==============================] - 3s 50us/step - loss: 1.1221 - accuracy: 0.7097\n",
      "Epoch 26/100\n",
      "54536/54536 [==============================] - 3s 53us/step - loss: 1.1226 - accuracy: 0.7098\n",
      "Epoch 27/100\n",
      "54536/54536 [==============================] - 3s 54us/step - loss: 1.1201 - accuracy: 0.7099\n",
      "Epoch 28/100\n",
      "54536/54536 [==============================] - 3s 53us/step - loss: 1.1192 - accuracy: 0.7098\n",
      "Epoch 29/100\n",
      "54536/54536 [==============================] - 3s 55us/step - loss: 1.1178 - accuracy: 0.7099\n",
      "Epoch 30/100\n",
      "54536/54536 [==============================] - 3s 56us/step - loss: 1.1170 - accuracy: 0.7099\n",
      "Epoch 31/100\n",
      "54536/54536 [==============================] - 3s 52us/step - loss: 1.1154 - accuracy: 0.7100\n",
      "Epoch 32/100\n",
      "54536/54536 [==============================] - 3s 48us/step - loss: 1.1149 - accuracy: 0.7101\n",
      "Epoch 33/100\n",
      "54536/54536 [==============================] - 3s 48us/step - loss: 1.1136 - accuracy: 0.7103\n",
      "Epoch 34/100\n",
      "54536/54536 [==============================] - 3s 54us/step - loss: 1.1119 - accuracy: 0.7102\n",
      "Epoch 35/100\n",
      "54536/54536 [==============================] - 3s 53us/step - loss: 1.1113 - accuracy: 0.7105\n",
      "Epoch 36/100\n",
      "54536/54536 [==============================] - 3s 51us/step - loss: 1.1101 - accuracy: 0.7107\n",
      "Epoch 37/100\n",
      "54536/54536 [==============================] - 4s 72us/step - loss: 1.1097 - accuracy: 0.7106\n",
      "Epoch 38/100\n",
      "54536/54536 [==============================] - 4s 81us/step - loss: 1.1072 - accuracy: 0.7111\n",
      "Epoch 39/100\n",
      "54536/54536 [==============================] - 3s 49us/step - loss: 1.1063 - accuracy: 0.7111\n",
      "Epoch 40/100\n",
      "54536/54536 [==============================] - 4s 66us/step - loss: 1.1056 - accuracy: 0.7111\n",
      "Epoch 41/100\n",
      "54536/54536 [==============================] - 4s 68us/step - loss: 1.1045 - accuracy: 0.7115\n",
      "Epoch 42/100\n",
      "54536/54536 [==============================] - 3s 63us/step - loss: 1.1030 - accuracy: 0.7116\n",
      "Epoch 43/100\n",
      "54536/54536 [==============================] - 3s 59us/step - loss: 1.1021 - accuracy: 0.7118\n",
      "Epoch 44/100\n",
      "54536/54536 [==============================] - 3s 52us/step - loss: 1.1012 - accuracy: 0.7120\n",
      "Epoch 45/100\n",
      "54536/54536 [==============================] - 3s 53us/step - loss: 1.1001 - accuracy: 0.7119\n",
      "Epoch 46/100\n",
      "54536/54536 [==============================] - 3s 56us/step - loss: 1.0988 - accuracy: 0.7123\n",
      "Epoch 47/100\n",
      "54536/54536 [==============================] - 5s 88us/step - loss: 1.0975 - accuracy: 0.7121\n",
      "Epoch 48/100\n",
      "54536/54536 [==============================] - 5s 83us/step - loss: 1.0969 - accuracy: 0.7125\n",
      "Epoch 49/100\n",
      "54536/54536 [==============================] - 3s 51us/step - loss: 1.0955 - accuracy: 0.7129\n",
      "Epoch 50/100\n",
      "54536/54536 [==============================] - 3s 54us/step - loss: 1.0950 - accuracy: 0.7128\n",
      "Epoch 51/100\n",
      "54536/54536 [==============================] - 3s 55us/step - loss: 1.0941 - accuracy: 0.7129\n",
      "Epoch 52/100\n",
      "54536/54536 [==============================] - 3s 58us/step - loss: 1.0926 - accuracy: 0.7132\n",
      "Epoch 53/100\n",
      "54536/54536 [==============================] - 3s 54us/step - loss: 1.0915 - accuracy: 0.7133\n",
      "Epoch 54/100\n",
      "54536/54536 [==============================] - 3s 51us/step - loss: 1.0915 - accuracy: 0.7137\n",
      "Epoch 55/100\n",
      "54536/54536 [==============================] - 3s 52us/step - loss: 1.0897 - accuracy: 0.7134\n",
      "Epoch 56/100\n",
      "54536/54536 [==============================] - 3s 48us/step - loss: 1.0888 - accuracy: 0.7141\n",
      "Epoch 57/100\n",
      "54536/54536 [==============================] - 3s 52us/step - loss: 1.0884 - accuracy: 0.7139\n",
      "Epoch 58/100\n",
      "54536/54536 [==============================] - 3s 48us/step - loss: 1.0867 - accuracy: 0.7138\n",
      "Epoch 59/100\n",
      "54536/54536 [==============================] - 3s 52us/step - loss: 1.0861 - accuracy: 0.7140\n",
      "Epoch 60/100\n",
      "54536/54536 [==============================] - 3s 50us/step - loss: 1.0850 - accuracy: 0.7141\n",
      "Epoch 61/100\n",
      "54536/54536 [==============================] - 3s 48us/step - loss: 1.0841 - accuracy: 0.7146\n",
      "Epoch 62/100\n",
      "54536/54536 [==============================] - 3s 52us/step - loss: 1.0839 - accuracy: 0.7144\n",
      "Epoch 63/100\n",
      "54536/54536 [==============================] - 3s 49us/step - loss: 1.0835 - accuracy: 0.7149\n",
      "Epoch 64/100\n",
      "54536/54536 [==============================] - 3s 48us/step - loss: 1.0824 - accuracy: 0.7147\n",
      "Epoch 65/100\n",
      "54536/54536 [==============================] - 3s 50us/step - loss: 1.0808 - accuracy: 0.7151\n",
      "Epoch 66/100\n",
      "54536/54536 [==============================] - 3s 48us/step - loss: 1.0805 - accuracy: 0.7153\n",
      "Epoch 67/100\n",
      "54536/54536 [==============================] - 3s 48us/step - loss: 1.0796 - accuracy: 0.7151\n",
      "Epoch 68/100\n",
      "54536/54536 [==============================] - 3s 49us/step - loss: 1.0789 - accuracy: 0.7150\n",
      "Epoch 69/100\n",
      "54536/54536 [==============================] - 3s 49us/step - loss: 1.0798 - accuracy: 0.7151\n",
      "Epoch 70/100\n",
      "54536/54536 [==============================] - 3s 51us/step - loss: 1.0776 - accuracy: 0.7156\n",
      "Epoch 71/100\n",
      "54536/54536 [==============================] - 3s 51us/step - loss: 1.0763 - accuracy: 0.7152\n",
      "Epoch 72/100\n",
      "54536/54536 [==============================] - 3s 49us/step - loss: 1.0766 - accuracy: 0.7156\n",
      "Epoch 73/100\n",
      "54536/54536 [==============================] - 3s 50us/step - loss: 1.0762 - accuracy: 0.7157\n",
      "Epoch 74/100\n",
      "54536/54536 [==============================] - 3s 47us/step - loss: 1.0747 - accuracy: 0.7158\n",
      "Epoch 75/100\n",
      "54536/54536 [==============================] - 3s 48us/step - loss: 1.0742 - accuracy: 0.7162\n",
      "Epoch 76/100\n",
      "54536/54536 [==============================] - 3s 51us/step - loss: 1.0735 - accuracy: 0.7155\n",
      "Epoch 77/100\n",
      "54536/54536 [==============================] - 3s 58us/step - loss: 1.0720 - accuracy: 0.7164\n",
      "Epoch 78/100\n",
      "54536/54536 [==============================] - 3s 50us/step - loss: 1.0727 - accuracy: 0.7162\n",
      "Epoch 79/100\n",
      "54536/54536 [==============================] - 3s 48us/step - loss: 1.0721 - accuracy: 0.7168\n",
      "Epoch 80/100\n",
      "54536/54536 [==============================] - 3s 49us/step - loss: 1.0716 - accuracy: 0.7168\n",
      "Epoch 81/100\n",
      "54536/54536 [==============================] - 3s 52us/step - loss: 1.0707 - accuracy: 0.7167\n",
      "Epoch 82/100\n",
      "54536/54536 [==============================] - 3s 50us/step - loss: 1.0706 - accuracy: 0.7166\n",
      "Epoch 83/100\n",
      "54536/54536 [==============================] - 3s 53us/step - loss: 1.0692 - accuracy: 0.7168\n",
      "Epoch 84/100\n",
      "54536/54536 [==============================] - 3s 52us/step - loss: 1.0706 - accuracy: 0.7168\n",
      "Epoch 85/100\n",
      "54536/54536 [==============================] - 3s 50us/step - loss: 1.0671 - accuracy: 0.7172\n",
      "Epoch 86/100\n",
      "54536/54536 [==============================] - 3s 51us/step - loss: 1.0676 - accuracy: 0.7170\n",
      "Epoch 87/100\n",
      "54536/54536 [==============================] - 3s 51us/step - loss: 1.0670 - accuracy: 0.7175\n",
      "Epoch 88/100\n",
      "54536/54536 [==============================] - 3s 49us/step - loss: 1.0671 - accuracy: 0.7170\n",
      "Epoch 89/100\n",
      "54536/54536 [==============================] - 3s 51us/step - loss: 1.0657 - accuracy: 0.7175\n",
      "Epoch 90/100\n",
      "54536/54536 [==============================] - 3s 49us/step - loss: 1.0655 - accuracy: 0.7173\n",
      "Epoch 91/100\n",
      "54536/54536 [==============================] - 3s 47us/step - loss: 1.0647 - accuracy: 0.7177\n",
      "Epoch 92/100\n",
      "54536/54536 [==============================] - 3s 48us/step - loss: 1.0643 - accuracy: 0.7175\n",
      "Epoch 93/100\n",
      "54536/54536 [==============================] - 3s 48us/step - loss: 1.0642 - accuracy: 0.7178\n",
      "Epoch 94/100\n",
      "54536/54536 [==============================] - 3s 49us/step - loss: 1.0645 - accuracy: 0.7177\n",
      "Epoch 95/100\n",
      "54536/54536 [==============================] - 3s 48us/step - loss: 1.0633 - accuracy: 0.7176\n",
      "Epoch 96/100\n",
      "54536/54536 [==============================] - 3s 49us/step - loss: 1.0677 - accuracy: 0.7179\n",
      "Epoch 97/100\n",
      "54536/54536 [==============================] - 3s 48us/step - loss: 1.0623 - accuracy: 0.7184\n",
      "Epoch 98/100\n",
      "54536/54536 [==============================] - 3s 48us/step - loss: 1.0624 - accuracy: 0.7179\n",
      "Epoch 99/100\n",
      "54536/54536 [==============================] - 3s 48us/step - loss: 1.0637 - accuracy: 0.7180\n",
      "Epoch 100/100\n",
      "54536/54536 [==============================] - 3s 50us/step - loss: 1.0615 - accuracy: 0.7181\n"
     ]
    },
    {
     "data": {
      "text/plain": [
       "<keras.callbacks.callbacks.History at 0x7fec15b3d110>"
      ]
     },
     "execution_count": 20,
     "metadata": {},
     "output_type": "execute_result"
    }
   ],
   "source": [
    "# moel definition\n",
    "model = ml.Sequential()\n",
    "model.add(Dense(128, input_dim=X_train.shape[1], activation='relu'))\n",
    "model.add(Dense(64, activation='relu'))\n",
    "model.add(Dense(11, activation='softmax'))\n",
    "\n",
    "# model compile\n",
    "model.compile(optimizer='adam',\n",
    "              loss='categorical_crossentropy',\n",
    "              metrics=['accuracy'])\n",
    "\n",
    "# train model\n",
    "model.fit(X_train, y_train_nn, epochs=100)"
   ]
  },
  {
   "cell_type": "markdown",
   "metadata": {},
   "source": [
    "## 8.0 Model Performance"
   ]
  },
  {
   "cell_type": "code",
   "execution_count": 51,
   "metadata": {},
   "outputs": [],
   "source": [
    "# prediction\n",
    "pred_nn = model.predict(X_test)\n",
    "\n",
    "# invert prediction\n",
    "yhat_nn = np.ravel(ohe.inverse_transform(pred_nn))\n",
    "\n",
    "# prediction prepare\n",
    "y_test_nn = np.ravel(y_test.to_numpy())"
   ]
  },
  {
   "cell_type": "code",
   "execution_count": 54,
   "metadata": {},
   "outputs": [
    {
     "name": "stdout",
     "output_type": "stream",
     "text": [
      "Accuracy: 0.6968096809680968\n"
     ]
    },
    {
     "data": {
      "text/plain": [
       "<AxesSubplot:title={'center':'Confusion Matrix'}, xlabel='Predicted label', ylabel='True label'>"
      ]
     },
     "execution_count": 54,
     "metadata": {},
     "output_type": "execute_result"
    },
    {
     "data": {
      "image/png": "[encoded data removed]",
      "text/plain": [
       "<Figure size 864x864 with 2 Axes>"
      ]
     },
     "metadata": {
      "needs_background": "light"
     },
     "output_type": "display_data"
    }
   ],
   "source": [
    "# Accuracy\n",
    "acc_nn = m.accuracy_score(yhat_nn, y_test_nn)\n",
    "print('Accuracy: {}'.format(acc_nn))\n",
    "# Confusion Matrix\n",
    "mt.plot_confusion_matrix(y_test_nn, yhat_nn, normalize=False, figsize=(12,12))\n",
    "\n",
    "# Balanced Accuracy\n",
    "# F-Score Balanced\n",
    "# Recall-precision\n",
    "# ROC\n",
    "# Kappa Metrics\n",
    "# Mathew Metrics"
   ]
  }
 ],
 "metadata": {
  "interpreter": {
   "hash": "399c9099d0d64ead15abb642c83f798819021e5c89d110d58607f7a7a9473da2"
  },
  "kernelspec": {
   "display_name": "Python 3.7.11 64-bit ('tensorflow': conda)",
   "name": "python3"
  },
  "language_info": {
   "codemirror_mode": {
    "name": "ipython",
    "version": 3
   },
   "file_extension": ".py",
   "mimetype": "text/x-python",
   "name": "python",
   "nbconvert_exporter": "python",
   "pygments_lexer": "ipython3",
   "version": "3.7.11"
  },
  "orig_nbformat": 4
 },
 "nbformat": 4,
 "nbformat_minor": 2
}
