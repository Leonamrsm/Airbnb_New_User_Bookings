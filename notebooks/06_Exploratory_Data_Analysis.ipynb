{
 "cells": [
  {
   "cell_type": "markdown",
   "metadata": {},
   "source": [
    "# Entender o Problema"
   ]
  },
  {
   "cell_type": "markdown",
   "metadata": {},
   "source": [
    "- Objetivo do Problema:\n",
    "    - Predição de qual país será o primeiro destino de reserva de um novo usuário;\n",
    "    - Porque?\n",
    "        - Qual o tipo de modelo de negócio do Airbnb?\n",
    "            - Marketplace (conecta pessoas que oferecem acomodação, com pessoas que estão procurando acomodação)\n",
    "            - Oferta (pessoas oferecendo acomodação)\n",
    "                - Tamanho do portifólio\n",
    "                - Diversisdade/Densidade de Portfólio\n",
    "                - preço Médio\n",
    "            - Demanda (pessoas procurando acomodação)\n",
    "                - Número de Usuários\n",
    "                - LTV (Lifetime Value)\n",
    "                - CAC ( Client Acquisition Cost)\n",
    "\n",
    "        Gross Revenue = (Fee*Numero cliente) - CAC"
   ]
  },
  {
   "cell_type": "markdown",
   "metadata": {},
   "source": [
    "- Proposta de Solução:\n",
    "    - Modelo de Previsão do primeiro destino de um novo usuário\n",
    "    - 1.0. Predições salvas em uma tabela do banco de dados\n",
    "    - 2.0. API\n",
    "        - Input: usuário e suas características\n",
    "        - Output: usuário e suas características com a predição de destino"
   ]
  },
  {
   "cell_type": "markdown",
   "metadata": {},
   "source": [
    "# <font color='red'>Ciclo 01: End to End</font>"
   ]
  },
  {
   "cell_type": "markdown",
   "metadata": {},
   "source": [
    "# 0.0. Imports"
   ]
  },
  {
   "cell_type": "code",
   "execution_count": 199,
   "metadata": {},
   "outputs": [],
   "source": [
    "import random\n",
    "import pandas               as pd\n",
    "import numpy                as np\n",
    "import seaborn              as sns\n",
    "import matplotlib.pyplot    as plt\n",
    "from sklearn.model_selection    import train_test_split, StratifiedKFold\n",
    "from sklearn    import preprocessing as pp\n",
    "from sklearn    import metrics       as m\n",
    "from scipy      import stats         as ss\n",
    "\n",
    "from imblearn import under_sampling  as us\n",
    "from imblearn import over_sampling   as overs\n",
    "from imblearn import combine         as comb \n",
    "\n",
    "from pandas_profiling import ProfileReport\n",
    "\n",
    "from keras import models as ml\n",
    "from keras.layers import Dense\n",
    "\n",
    "import tensorflow as tf\n",
    "\n",
    "from scikitplot import metrics       as mt\n",
    "\n",
    "%matplotlib inline\n"
   ]
  },
  {
   "cell_type": "markdown",
   "metadata": {},
   "source": [
    "## 0.1. Helper Functions"
   ]
  },
  {
   "cell_type": "code",
   "execution_count": 200,
   "metadata": {},
   "outputs": [],
   "source": [
    "def cramer_v(x, y):\n",
    "    cm = pd.crosstab(x, y).values\n",
    "    n = cm.sum()\n",
    "    r, k = cm.shape\n",
    "    # \\chi ^{2} is derived from Pearson's chi-squared test\n",
    "    chi2 = ss.chi2_contingency(cm)[0]\n",
    "    phi2 = chi2/n\n",
    "    phi2corr  = max(0, phi2 - (k-1)*(r-1)/(n-1))\n",
    "\n",
    "    kcorr = k - ((k-1)**2)/(n-1)\n",
    "    rcorr = r - ((r-1)**2)/(n-1)\n",
    "\n",
    "    # Varia de 0 a 1\n",
    "    return np.sqrt(phi2corr/min(kcorr-1, rcorr-1))"
   ]
  },
  {
   "cell_type": "markdown",
   "metadata": {},
   "source": [
    "## 0.2. Loading Data"
   ]
  },
  {
   "cell_type": "code",
   "execution_count": 201,
   "metadata": {},
   "outputs": [
    {
     "data": {
      "text/plain": [
       "(213451, 16)"
      ]
     },
     "execution_count": 201,
     "metadata": {},
     "output_type": "execute_result"
    }
   ],
   "source": [
    "df_users_raw = pd.read_csv('../data/train_users_2.csv', low_memory=True)\n",
    "df_users_raw.shape"
   ]
  },
  {
   "cell_type": "code",
   "execution_count": 202,
   "metadata": {},
   "outputs": [
    {
     "data": {
      "text/plain": [
       "(10567737, 6)"
      ]
     },
     "execution_count": 202,
     "metadata": {},
     "output_type": "execute_result"
    }
   ],
   "source": [
    "df_sessions = pd.read_csv('../data/sessions.csv', low_memory=True)\n",
    "df_sessions.shape"
   ]
  },
  {
   "cell_type": "markdown",
   "metadata": {},
   "source": [
    "# 1.0 Data Description"
   ]
  },
  {
   "cell_type": "code",
   "execution_count": 203,
   "metadata": {},
   "outputs": [],
   "source": [
    "df1 = df_users_raw.copy()"
   ]
  },
  {
   "cell_type": "markdown",
   "metadata": {},
   "source": [
    "## 1.1. Data Dimension"
   ]
  },
  {
   "cell_type": "code",
   "execution_count": 204,
   "metadata": {},
   "outputs": [
    {
     "name": "stdout",
     "output_type": "stream",
     "text": [
      "Number of rows 213451\n",
      "Number of columns 16\n"
     ]
    }
   ],
   "source": [
    "print('Number of rows {}'.format(df1.shape[0]))\n",
    "print('Number of columns {}'.format(df1.shape[1]))"
   ]
  },
  {
   "cell_type": "code",
   "execution_count": 205,
   "metadata": {},
   "outputs": [
    {
     "name": "stdout",
     "output_type": "stream",
     "text": [
      "Number of rows 10567737\n",
      "Number of columns 6\n"
     ]
    }
   ],
   "source": [
    "print('Number of rows {}'.format(df_sessions.shape[0]))\n",
    "print('Number of columns {}'.format(df_sessions.shape[1]))"
   ]
  },
  {
   "cell_type": "markdown",
   "metadata": {},
   "source": [
    "## 1.2. Data Types"
   ]
  },
  {
   "cell_type": "code",
   "execution_count": 206,
   "metadata": {},
   "outputs": [
    {
     "data": {
      "text/plain": [
       "id                          object\n",
       "date_account_created        object\n",
       "timestamp_first_active       int64\n",
       "date_first_booking          object\n",
       "gender                      object\n",
       "age                        float64\n",
       "signup_method               object\n",
       "signup_flow                  int64\n",
       "language                    object\n",
       "affiliate_channel           object\n",
       "affiliate_provider          object\n",
       "first_affiliate_tracked     object\n",
       "signup_app                  object\n",
       "first_device_type           object\n",
       "first_browser               object\n",
       "country_destination         object\n",
       "dtype: object"
      ]
     },
     "execution_count": 206,
     "metadata": {},
     "output_type": "execute_result"
    }
   ],
   "source": [
    "df1.dtypes"
   ]
  },
  {
   "cell_type": "code",
   "execution_count": 207,
   "metadata": {},
   "outputs": [
    {
     "data": {
      "text/plain": [
       "user_id           object\n",
       "action            object\n",
       "action_type       object\n",
       "action_detail     object\n",
       "device_type       object\n",
       "secs_elapsed     float64\n",
       "dtype: object"
      ]
     },
     "execution_count": 207,
     "metadata": {},
     "output_type": "execute_result"
    }
   ],
   "source": [
    "df_sessions.dtypes"
   ]
  },
  {
   "cell_type": "markdown",
   "metadata": {},
   "source": [
    "## 1.3. Check NAs"
   ]
  },
  {
   "cell_type": "code",
   "execution_count": 208,
   "metadata": {},
   "outputs": [
    {
     "data": {
      "text/plain": [
       "id                         0.000000\n",
       "date_account_created       0.000000\n",
       "timestamp_first_active     0.000000\n",
       "date_first_booking         0.583473\n",
       "gender                     0.000000\n",
       "age                        0.412226\n",
       "signup_method              0.000000\n",
       "signup_flow                0.000000\n",
       "language                   0.000000\n",
       "affiliate_channel          0.000000\n",
       "affiliate_provider         0.000000\n",
       "first_affiliate_tracked    0.028414\n",
       "signup_app                 0.000000\n",
       "first_device_type          0.000000\n",
       "first_browser              0.000000\n",
       "country_destination        0.000000\n",
       "dtype: float64"
      ]
     },
     "execution_count": 208,
     "metadata": {},
     "output_type": "execute_result"
    }
   ],
   "source": [
    "df1.isna().sum()/len(df1)"
   ]
  },
  {
   "cell_type": "code",
   "execution_count": 209,
   "metadata": {},
   "outputs": [
    {
     "data": {
      "text/plain": [
       "user_id          0.003264\n",
       "action           0.007535\n",
       "action_type      0.106570\n",
       "action_detail    0.106570\n",
       "device_type      0.000000\n",
       "secs_elapsed     0.012872\n",
       "dtype: float64"
      ]
     },
     "execution_count": 209,
     "metadata": {},
     "output_type": "execute_result"
    }
   ],
   "source": [
    "df_sessions.isna().sum()/len(df_sessions)"
   ]
  },
  {
   "cell_type": "code",
   "execution_count": 210,
   "metadata": {},
   "outputs": [
    {
     "name": "stderr",
     "output_type": "stream",
     "text": [
      "/home/leonam/anaconda3/envs/airbnb/lib/python3.8/site-packages/seaborn/distributions.py:2551: FutureWarning: `distplot` is a deprecated function and will be removed in a future version. Please adapt your code to use either `displot` (a figure-level function with similar flexibility) or `histplot` (an axes-level function for histograms).\n",
      "  warnings.warn(msg, FutureWarning)\n"
     ]
    },
    {
     "data": {
      "text/plain": [
       "<AxesSubplot:xlabel='secs_elapsed', ylabel='Density'>"
      ]
     },
     "execution_count": 210,
     "metadata": {},
     "output_type": "execute_result"
    },
    {
     "data": {
      "image/png": "[encoded data removed]",
      "text/plain": [
       "<Figure size 432x288 with 1 Axes>"
      ]
     },
     "metadata": {
      "needs_background": "light"
     },
     "output_type": "display_data"
    }
   ],
   "source": [
    "sns.distplot(df_sessions['secs_elapsed'].sample(10000))"
   ]
  },
  {
   "cell_type": "markdown",
   "metadata": {},
   "source": [
    "## 1.4. Fillout NAs"
   ]
  },
  {
   "cell_type": "code",
   "execution_count": 211,
   "metadata": {},
   "outputs": [],
   "source": [
    "# remiove missing values\n",
    "# df1 = df1.dropna()\n",
    "\n",
    "\n",
    "# =============== User ===================\n",
    "\n",
    "# date_first_booking\n",
    "date_first_booking_max = pd.to_datetime(df1['date_first_booking']).max().strftime('%Y-%m-%d')\n",
    "df1['date_first_booking'] = df1['date_first_booking'].fillna(date_first_booking_max)\n",
    "\n",
    "# age - NA está distribuido entre as classes\n",
    "# Distribuição de age se parece com uma normal\n",
    "# df1 = df1[( df1['age'] > 15 ) & ( df1['age'] < 120 )]\n",
    "avg_age = int(df1['age'].mean())\n",
    "df1['age'] = df1['age'].fillna(avg_age)\n",
    "\n",
    "# first_affiliate_tracked - fazer replacement de dados categoricos é perigoso com chance de enviesar o modelo\n",
    "df1 = df1[~df1['first_affiliate_tracked'].isna()]\n",
    "\n",
    "# =============== Sessions ===================\n",
    "# Como df_sessions possui um número muito grande amostras (10567737), serão removidas todas as amostras \n",
    "# que possuem dados NA \n",
    "\n",
    "# user_id          0.3%\n",
    "df_sessions = df_sessions[df_sessions['user_id'].notna()]\n",
    "\n",
    "# action           0.7%\n",
    "df_sessions = df_sessions[df_sessions['action'].notna()]\n",
    "\n",
    "# action_type      10.6570%\n",
    "df_sessions = df_sessions[df_sessions['action_type'].notna()]\n",
    "\n",
    "# action_detail    10.6570%\n",
    "df_sessions = df_sessions[df_sessions['action_detail'].notna()]\n",
    "\n",
    "# secs_elapsed     1.2872%\n",
    "df_sessions = df_sessions[df_sessions['secs_elapsed'].notna()]\n"
   ]
  },
  {
   "cell_type": "markdown",
   "metadata": {},
   "source": [
    "## 1.5. Change Types"
   ]
  },
  {
   "cell_type": "code",
   "execution_count": 212,
   "metadata": {},
   "outputs": [
    {
     "data": {
      "text/plain": [
       "id                          object\n",
       "date_account_created        object\n",
       "timestamp_first_active       int64\n",
       "date_first_booking          object\n",
       "gender                      object\n",
       "age                        float64\n",
       "signup_method               object\n",
       "signup_flow                  int64\n",
       "language                    object\n",
       "affiliate_channel           object\n",
       "affiliate_provider          object\n",
       "first_affiliate_tracked     object\n",
       "signup_app                  object\n",
       "first_device_type           object\n",
       "first_browser               object\n",
       "country_destination         object\n",
       "dtype: object"
      ]
     },
     "execution_count": 212,
     "metadata": {},
     "output_type": "execute_result"
    }
   ],
   "source": [
    "df1.dtypes"
   ]
  },
  {
   "cell_type": "code",
   "execution_count": 213,
   "metadata": {},
   "outputs": [],
   "source": [
    "# date_account_created\n",
    "df1['date_account_created'] = pd.to_datetime(df1['date_account_created'], format='%Y-%m-%d')\n",
    "\n",
    "# timestamp_first_active\n",
    "df1['timestamp_first_active'] = pd.to_datetime(df1['timestamp_first_active'], format='%Y%m%d%H%M%S')\n",
    "\n",
    "# date_first_booking\n",
    "df1['date_first_booking'] = pd.to_datetime(df1['date_first_booking'], format='%Y-%m-%d')\n",
    "\n",
    "# age\n",
    "df1['age'] = df1['age'].astype(int)"
   ]
  },
  {
   "cell_type": "markdown",
   "metadata": {},
   "source": [
    "## 1.6. Check Balanced Data"
   ]
  },
  {
   "cell_type": "code",
   "execution_count": 214,
   "metadata": {},
   "outputs": [
    {
     "data": {
      "text/plain": [
       "NDF      120216\n",
       "US        61067\n",
       "other      9981\n",
       "FR         4899\n",
       "IT         2791\n",
       "GB         2295\n",
       "ES         2213\n",
       "CA         1391\n",
       "DE         1041\n",
       "NL          751\n",
       "AU          527\n",
       "PT          214\n",
       "Name: country_destination, dtype: int64"
      ]
     },
     "execution_count": 214,
     "metadata": {},
     "output_type": "execute_result"
    }
   ],
   "source": [
    "# response variable is the columns country_destination\n",
    "df1['country_destination'].value_counts()"
   ]
  },
  {
   "cell_type": "markdown",
   "metadata": {},
   "source": [
    "## 1.7. Descriptive Analysis\n"
   ]
  },
  {
   "cell_type": "code",
   "execution_count": 215,
   "metadata": {},
   "outputs": [],
   "source": [
    "# Users\n",
    "num_attributes = df1.select_dtypes(include=['int64', 'float64'])\n",
    "cat_attributes = df1.select_dtypes(exclude=['int64', 'float64', 'datetime64[ns]'])\n",
    "time_attributes = df1.select_dtypes(include=['datetime64[ns]'])\n",
    "\n",
    "# Sessions\n",
    "num_attributes_sessions = df_sessions.select_dtypes(include=['int64', 'float64'])\n",
    "cat_attributes_sessions = df_sessions.select_dtypes(exclude=['int64', 'float64', 'datetime64[ns]'])\n",
    "time_attributes_sessions = df_sessions.select_dtypes(include=['datetime64[ns]'])"
   ]
  },
  {
   "cell_type": "markdown",
   "metadata": {},
   "source": [
    "### 1.7.1 Numerical Attributes"
   ]
  },
  {
   "cell_type": "markdown",
   "metadata": {},
   "source": [
    "#### 1.7.1.2. Users"
   ]
  },
  {
   "cell_type": "code",
   "execution_count": 216,
   "metadata": {},
   "outputs": [
    {
     "data": {
      "text/html": [
       "<div>\n",
       "<style scoped>\n",
       "    .dataframe tbody tr th:only-of-type {\n",
       "        vertical-align: middle;\n",
       "    }\n",
       "\n",
       "    .dataframe tbody tr th {\n",
       "        vertical-align: top;\n",
       "    }\n",
       "\n",
       "    .dataframe thead th {\n",
       "        text-align: right;\n",
       "    }\n",
       "</style>\n",
       "<table border=\"1\" class=\"dataframe\">\n",
       "  <thead>\n",
       "    <tr style=\"text-align: right;\">\n",
       "      <th></th>\n",
       "      <th>min</th>\n",
       "      <th>max</th>\n",
       "      <th>range</th>\n",
       "      <th>mean</th>\n",
       "      <th>median</th>\n",
       "      <th>std</th>\n",
       "      <th>skew</th>\n",
       "      <th>kurtosis</th>\n",
       "    </tr>\n",
       "  </thead>\n",
       "  <tbody>\n",
       "    <tr>\n",
       "      <th>age</th>\n",
       "      <td>1.0</td>\n",
       "      <td>2014.0</td>\n",
       "      <td>2013.0</td>\n",
       "      <td>49.183142</td>\n",
       "      <td>49.0</td>\n",
       "      <td>118.421975</td>\n",
       "      <td>16.333820</td>\n",
       "      <td>267.655434</td>\n",
       "    </tr>\n",
       "    <tr>\n",
       "      <th>signup_flow</th>\n",
       "      <td>0.0</td>\n",
       "      <td>25.0</td>\n",
       "      <td>25.0</td>\n",
       "      <td>3.151490</td>\n",
       "      <td>0.0</td>\n",
       "      <td>7.543933</td>\n",
       "      <td>2.287158</td>\n",
       "      <td>3.567794</td>\n",
       "    </tr>\n",
       "  </tbody>\n",
       "</table>\n",
       "</div>"
      ],
      "text/plain": [
       "             min     max   range       mean  median         std       skew  \\\n",
       "age          1.0  2014.0  2013.0  49.183142    49.0  118.421975  16.333820   \n",
       "signup_flow  0.0    25.0    25.0   3.151490     0.0    7.543933   2.287158   \n",
       "\n",
       "               kurtosis  \n",
       "age          267.655434  \n",
       "signup_flow    3.567794  "
      ]
     },
     "execution_count": 216,
     "metadata": {},
     "output_type": "execute_result"
    }
   ],
   "source": [
    "# Users\n",
    "# Central Tendency - Mean, Median, \n",
    "ct1 = pd.DataFrame(num_attributes.mean()).T\n",
    "ct2 = pd.DataFrame(num_attributes.median()).T\n",
    "\n",
    "# Dispersions- Std, M in, Max, Range, Skew, Kurtosis\n",
    "d1 = pd.DataFrame(num_attributes.std()).T\n",
    "d2 = pd.DataFrame(num_attributes.min()).T\n",
    "d3 = pd.DataFrame(num_attributes.max()).T\n",
    "d4 = pd.DataFrame(num_attributes.apply(lambda x: x.max() - x.min())).T\n",
    "d5 = pd.DataFrame(num_attributes.skew()).T\n",
    "d6 = pd.DataFrame(num_attributes.kurtosis()).T\n",
    "\n",
    "# concatenate\n",
    "df_n_analysis = pd.concat([d2, d3, d4, ct1, ct2, d1, d5, d6]).T\n",
    "df_n_analysis.columns = [ 'min', 'max', 'range', 'mean', 'median', 'std', 'skew', 'kurtosis']\n",
    "df_n_analysis"
   ]
  },
  {
   "cell_type": "markdown",
   "metadata": {},
   "source": [
    "#### 1.7.1.2. Sessions"
   ]
  },
  {
   "cell_type": "code",
   "execution_count": 217,
   "metadata": {},
   "outputs": [
    {
     "data": {
      "text/html": [
       "<div>\n",
       "<style scoped>\n",
       "    .dataframe tbody tr th:only-of-type {\n",
       "        vertical-align: middle;\n",
       "    }\n",
       "\n",
       "    .dataframe tbody tr th {\n",
       "        vertical-align: top;\n",
       "    }\n",
       "\n",
       "    .dataframe thead th {\n",
       "        text-align: right;\n",
       "    }\n",
       "</style>\n",
       "<table border=\"1\" class=\"dataframe\">\n",
       "  <thead>\n",
       "    <tr style=\"text-align: right;\">\n",
       "      <th></th>\n",
       "      <th>min</th>\n",
       "      <th>max</th>\n",
       "      <th>range</th>\n",
       "      <th>mean</th>\n",
       "      <th>median</th>\n",
       "      <th>std</th>\n",
       "      <th>skew</th>\n",
       "      <th>kurtosis</th>\n",
       "    </tr>\n",
       "  </thead>\n",
       "  <tbody>\n",
       "    <tr>\n",
       "      <th>secs_elapsed</th>\n",
       "      <td>0.0</td>\n",
       "      <td>1799977.0</td>\n",
       "      <td>1799977.0</td>\n",
       "      <td>19961.8251</td>\n",
       "      <td>1369.0</td>\n",
       "      <td>88849.39327</td>\n",
       "      <td>11.137761</td>\n",
       "      <td>154.84312</td>\n",
       "    </tr>\n",
       "  </tbody>\n",
       "</table>\n",
       "</div>"
      ],
      "text/plain": [
       "              min        max      range        mean  median          std  \\\n",
       "secs_elapsed  0.0  1799977.0  1799977.0  19961.8251  1369.0  88849.39327   \n",
       "\n",
       "                   skew   kurtosis  \n",
       "secs_elapsed  11.137761  154.84312  "
      ]
     },
     "execution_count": 217,
     "metadata": {},
     "output_type": "execute_result"
    }
   ],
   "source": [
    "# Sessions\n",
    "# Central Tendency - Mean, Median, \n",
    "ct1 = pd.DataFrame(num_attributes_sessions.mean()).T\n",
    "ct2 = pd.DataFrame(num_attributes_sessions.median()).T\n",
    "\n",
    "# Dispersions- Std, M in, Max, Range, Skew, Kurtosis\n",
    "d1 = pd.DataFrame(num_attributes_sessions.std()).T\n",
    "d2 = pd.DataFrame(num_attributes_sessions.min()).T\n",
    "d3 = pd.DataFrame(num_attributes_sessions.max()).T\n",
    "d4 = pd.DataFrame(num_attributes_sessions.apply(lambda x: x.max() - x.min())).T\n",
    "d5 = pd.DataFrame(num_attributes_sessions.skew()).T\n",
    "d6 = pd.DataFrame(num_attributes_sessions.kurtosis()).T\n",
    "\n",
    "# concatenate\n",
    "df_c_analysis = pd.concat([d2, d3, d4, ct1, ct2, d1, d5, d6]).T\n",
    "df_c_analysis.columns = [ 'min', 'max', 'range', 'mean', 'median', 'std', 'skew', 'kurtosis']\n",
    "df_c_analysis"
   ]
  },
  {
   "cell_type": "markdown",
   "metadata": {},
   "source": [
    "### 1.7.2 Categorical Attributes"
   ]
  },
  {
   "cell_type": "markdown",
   "metadata": {},
   "source": [
    "#### 1.7.2.1. Users"
   ]
  },
  {
   "cell_type": "code",
   "execution_count": 218,
   "metadata": {},
   "outputs": [
    {
     "data": {
      "text/html": [
       "<div>\n",
       "<style scoped>\n",
       "    .dataframe tbody tr th:only-of-type {\n",
       "        vertical-align: middle;\n",
       "    }\n",
       "\n",
       "    .dataframe tbody tr th {\n",
       "        vertical-align: top;\n",
       "    }\n",
       "\n",
       "    .dataframe thead th {\n",
       "        text-align: right;\n",
       "    }\n",
       "</style>\n",
       "<table border=\"1\" class=\"dataframe\">\n",
       "  <thead>\n",
       "    <tr style=\"text-align: right;\">\n",
       "      <th></th>\n",
       "      <th>gender</th>\n",
       "      <th>signup_method</th>\n",
       "      <th>language</th>\n",
       "      <th>affiliate_channel</th>\n",
       "      <th>affiliate_provider</th>\n",
       "      <th>first_affiliate_tracked</th>\n",
       "      <th>signup_app</th>\n",
       "      <th>first_device_type</th>\n",
       "      <th>first_browser</th>\n",
       "      <th>country_destination</th>\n",
       "    </tr>\n",
       "  </thead>\n",
       "  <tbody>\n",
       "    <tr>\n",
       "      <th>count</th>\n",
       "      <td>207386</td>\n",
       "      <td>207386</td>\n",
       "      <td>207386</td>\n",
       "      <td>207386</td>\n",
       "      <td>207386</td>\n",
       "      <td>207386</td>\n",
       "      <td>207386</td>\n",
       "      <td>207386</td>\n",
       "      <td>207386</td>\n",
       "      <td>207386</td>\n",
       "    </tr>\n",
       "    <tr>\n",
       "      <th>unique</th>\n",
       "      <td>4</td>\n",
       "      <td>3</td>\n",
       "      <td>25</td>\n",
       "      <td>8</td>\n",
       "      <td>18</td>\n",
       "      <td>7</td>\n",
       "      <td>4</td>\n",
       "      <td>9</td>\n",
       "      <td>52</td>\n",
       "      <td>12</td>\n",
       "    </tr>\n",
       "    <tr>\n",
       "      <th>top</th>\n",
       "      <td>-unknown-</td>\n",
       "      <td>basic</td>\n",
       "      <td>en</td>\n",
       "      <td>direct</td>\n",
       "      <td>direct</td>\n",
       "      <td>untracked</td>\n",
       "      <td>Web</td>\n",
       "      <td>Mac Desktop</td>\n",
       "      <td>Chrome</td>\n",
       "      <td>NDF</td>\n",
       "    </tr>\n",
       "    <tr>\n",
       "      <th>freq</th>\n",
       "      <td>91783</td>\n",
       "      <td>148297</td>\n",
       "      <td>200415</td>\n",
       "      <td>134179</td>\n",
       "      <td>133935</td>\n",
       "      <td>109232</td>\n",
       "      <td>178334</td>\n",
       "      <td>89600</td>\n",
       "      <td>63845</td>\n",
       "      <td>120216</td>\n",
       "    </tr>\n",
       "  </tbody>\n",
       "</table>\n",
       "</div>"
      ],
      "text/plain": [
       "           gender signup_method language affiliate_channel affiliate_provider  \\\n",
       "count      207386        207386   207386            207386             207386   \n",
       "unique          4             3       25                 8                 18   \n",
       "top     -unknown-         basic       en            direct             direct   \n",
       "freq        91783        148297   200415            134179             133935   \n",
       "\n",
       "       first_affiliate_tracked signup_app first_device_type first_browser  \\\n",
       "count                   207386     207386            207386        207386   \n",
       "unique                       7          4                 9            52   \n",
       "top                  untracked        Web       Mac Desktop        Chrome   \n",
       "freq                    109232     178334             89600         63845   \n",
       "\n",
       "       country_destination  \n",
       "count               207386  \n",
       "unique                  12  \n",
       "top                    NDF  \n",
       "freq                120216  "
      ]
     },
     "execution_count": 218,
     "metadata": {},
     "output_type": "execute_result"
    }
   ],
   "source": [
    "cat_attributes = cat_attributes.drop('id', axis=1)\n",
    "cat_attributes.describe()"
   ]
  },
  {
   "cell_type": "code",
   "execution_count": 219,
   "metadata": {},
   "outputs": [
    {
     "data": {
      "text/plain": [
       "<AxesSubplot:>"
      ]
     },
     "execution_count": 219,
     "metadata": {},
     "output_type": "execute_result"
    },
    {
     "data": {
      "image/png": "[encoded data removed]",
      "text/plain": [
       "<Figure size 1440x864 with 2 Axes>"
      ]
     },
     "metadata": {
      "needs_background": "light"
     },
     "output_type": "display_data"
    }
   ],
   "source": [
    "# list of attributes for cramer's v correlation\n",
    "cat_attributes_list = cat_attributes.columns.tolist()\n",
    "\n",
    "corr_dict = {}\n",
    "\n",
    "for i in range(len(cat_attributes_list)):\n",
    "    corr_list = []\n",
    "    ref = cat_attributes_list[i]\n",
    "    for j in range(len(cat_attributes_list)):\n",
    "        feat = cat_attributes_list[j]\n",
    "        corr = cramer_v(cat_attributes[ref], cat_attributes[feat])\n",
    "        corr_list.append(corr)\n",
    "\n",
    "    corr_dict[ref] = corr_list\n",
    "    \n",
    "fig = plt.figure(figsize=(20,12))\n",
    "ax = fig.add_subplot()\n",
    "\n",
    "d =  pd.DataFrame(corr_dict)\n",
    "d = d.set_index( d.columns )\n",
    "sns.heatmap(d, annot = True, ax=ax)"
   ]
  },
  {
   "cell_type": "markdown",
   "metadata": {},
   "source": [
    "#### 1.7.2.2. Sessions"
   ]
  },
  {
   "cell_type": "code",
   "execution_count": 220,
   "metadata": {},
   "outputs": [
    {
     "data": {
      "text/html": [
       "<div>\n",
       "<style scoped>\n",
       "    .dataframe tbody tr th:only-of-type {\n",
       "        vertical-align: middle;\n",
       "    }\n",
       "\n",
       "    .dataframe tbody tr th {\n",
       "        vertical-align: top;\n",
       "    }\n",
       "\n",
       "    .dataframe thead th {\n",
       "        text-align: right;\n",
       "    }\n",
       "</style>\n",
       "<table border=\"1\" class=\"dataframe\">\n",
       "  <thead>\n",
       "    <tr style=\"text-align: right;\">\n",
       "      <th></th>\n",
       "      <th>action</th>\n",
       "      <th>action_type</th>\n",
       "      <th>action_detail</th>\n",
       "      <th>device_type</th>\n",
       "    </tr>\n",
       "  </thead>\n",
       "  <tbody>\n",
       "    <tr>\n",
       "      <th>count</th>\n",
       "      <td>9213930</td>\n",
       "      <td>9213930</td>\n",
       "      <td>9213930</td>\n",
       "      <td>9213930</td>\n",
       "    </tr>\n",
       "    <tr>\n",
       "      <th>unique</th>\n",
       "      <td>347</td>\n",
       "      <td>10</td>\n",
       "      <td>155</td>\n",
       "      <td>14</td>\n",
       "    </tr>\n",
       "    <tr>\n",
       "      <th>top</th>\n",
       "      <td>show</td>\n",
       "      <td>view</td>\n",
       "      <td>view_search_results</td>\n",
       "      <td>Mac Desktop</td>\n",
       "    </tr>\n",
       "    <tr>\n",
       "      <th>freq</th>\n",
       "      <td>2178382</td>\n",
       "      <td>3545621</td>\n",
       "      <td>1770931</td>\n",
       "      <td>3019523</td>\n",
       "    </tr>\n",
       "  </tbody>\n",
       "</table>\n",
       "</div>"
      ],
      "text/plain": [
       "         action action_type        action_detail  device_type\n",
       "count   9213930     9213930              9213930      9213930\n",
       "unique      347          10                  155           14\n",
       "top        show        view  view_search_results  Mac Desktop\n",
       "freq    2178382     3545621              1770931      3019523"
      ]
     },
     "execution_count": 220,
     "metadata": {},
     "output_type": "execute_result"
    }
   ],
   "source": [
    "cat_attributes_sessions = cat_attributes_sessions.drop('user_id', axis=1)\n",
    "cat_attributes_sessions.describe()"
   ]
  },
  {
   "cell_type": "code",
   "execution_count": 221,
   "metadata": {},
   "outputs": [
    {
     "data": {
      "text/plain": [
       "<AxesSubplot:>"
      ]
     },
     "execution_count": 221,
     "metadata": {},
     "output_type": "execute_result"
    },
    {
     "data": {
      "image/png": "[encoded data removed]",
      "text/plain": [
       "<Figure size 1440x864 with 2 Axes>"
      ]
     },
     "metadata": {
      "needs_background": "light"
     },
     "output_type": "display_data"
    }
   ],
   "source": [
    "# list of attributes for cramer's v correlation\n",
    "cat_attributes_list = cat_attributes_sessions.columns.tolist()\n",
    "\n",
    "corr_dict = {}\n",
    "\n",
    "for i in range(len(cat_attributes_list)):\n",
    "    corr_list = []\n",
    "    ref = cat_attributes_list[i]\n",
    "    for j in range(len(cat_attributes_list)):\n",
    "        feat = cat_attributes_list[j]\n",
    "        corr = cramer_v(cat_attributes_sessions[ref], cat_attributes_sessions[feat])\n",
    "        corr_list.append(corr)\n",
    "\n",
    "    corr_dict[ref] = corr_list\n",
    "    \n",
    "fig = plt.figure(figsize=(20,12))\n",
    "ax = fig.add_subplot()\n",
    "\n",
    "d =  pd.DataFrame(corr_dict)\n",
    "d = d.set_index( d.columns )\n",
    "sns.heatmap(d, annot = True, ax=ax)"
   ]
  },
  {
   "cell_type": "markdown",
   "metadata": {},
   "source": [
    "# 2.0 Feature Engineering"
   ]
  },
  {
   "cell_type": "code",
   "execution_count": 222,
   "metadata": {},
   "outputs": [],
   "source": [
    "df2 = df1.copy()"
   ]
  },
  {
   "cell_type": "markdown",
   "metadata": {},
   "source": [
    "## 2.1. Create New Features"
   ]
  },
  {
   "cell_type": "code",
   "execution_count": 223,
   "metadata": {},
   "outputs": [],
   "source": [
    "# days from first active up to first booking\n",
    "df2['first_active'] = pd.to_datetime(df2['timestamp_first_active'].apply(lambda x: x.date()))\n",
    "df2['days_from_first_active_until_booking'] = (df2['date_first_booking'] - df2['first_active']).dt.days\n",
    "\n",
    "# days from first active up to account created\n",
    "df2['days_from_first_active_until_account_created'] = (df2['date_account_created'] - df2['first_active']).dt.days\n",
    "\n",
    "# days from account created up to first booking\n",
    "df2['days_from_account_created_until_first_booking'] = (df2['date_first_booking'] - df2['date_account_created']).dt.days\n",
    "\n",
    "# ================================== First Active =========================================\n",
    "# year of first active\n",
    "df2['year_first_active'] = df2['first_active'].dt.year\n",
    "\n",
    "# month of first active\n",
    "df2['month_first_active'] = df2['first_active'].dt.month\n",
    "\n",
    "# day of first active\n",
    "df2['day_first_active'] = df2['first_active'].dt.day\n",
    "\n",
    "# day of week first active\n",
    "df2['day_of_week_first_active'] = df2['first_active'].dt.dayofweek\n",
    "\n",
    "# week of year of first active\n",
    "df2['week_of_year_first_active'] = df2['first_active'].dt.isocalendar().week\n",
    "df2['week_of_year_first_active'] = df2['week_of_year_first_active'].astype(np.int64)\n",
    "\n",
    "\n",
    "# ================================== Booking =========================================\n",
    "# year of first booking\n",
    "df2['year_first_booking'] = df2['date_first_booking'].dt.year\n",
    "\n",
    "# month of first booking\n",
    "df2['month_first_booking'] = df2['date_first_booking'].dt.month\n",
    "\n",
    "# day of first booking\n",
    "df2['day_first_booking'] = df2['date_first_booking'].dt.day\n",
    "\n",
    "# day of week first booking\n",
    "df2['day_of_week_first_booking'] = df2['date_first_booking'].dt.dayofweek\n",
    "\n",
    "# week of year of first booking\n",
    "df2['week_of_year_first_booking'] = df2['date_first_booking'].dt.isocalendar().week\n",
    "df2['week_of_year_first_booking'] = df2['week_of_year_first_booking'].astype(np.int64)\n",
    "\n",
    "\n",
    "# ================================== Account Created =========================================\n",
    "# year of account created\n",
    "df2['year_account_created'] = df2['date_account_created'].dt.year\n",
    "\n",
    "# month of account created\n",
    "df2['month_account_created'] = df2['date_account_created'].dt.month\n",
    "\n",
    "# day of account created\n",
    "df2['day_account_created'] = df2['date_account_created'].dt.day\n",
    "\n",
    "# day of week account created\n",
    "df2['day_of_week_account_created'] = df2['date_account_created'].dt.dayofweek\n",
    "\n",
    "# week of year of account created\n",
    "df2['week_of_year_account_created'] = df2['date_account_created'].dt.isocalendar().week\n",
    "df2['week_of_year_account_created'] = df2['week_of_year_account_created'].astype(np.int64)\n"
   ]
  },
  {
   "cell_type": "code",
   "execution_count": 224,
   "metadata": {},
   "outputs": [
    {
     "data": {
      "text/plain": [
       "(207386, 35)"
      ]
     },
     "execution_count": 224,
     "metadata": {},
     "output_type": "execute_result"
    }
   ],
   "source": [
    "df2.shape"
   ]
  },
  {
   "cell_type": "markdown",
   "metadata": {},
   "source": [
    "# 3.0. Data Filtering"
   ]
  },
  {
   "cell_type": "code",
   "execution_count": 192,
   "metadata": {},
   "outputs": [],
   "source": [
    "df3 = df2.copy()"
   ]
  },
  {
   "cell_type": "markdown",
   "metadata": {},
   "source": [
    "## 3.1. Filtering Rows"
   ]
  },
  {
   "cell_type": "code",
   "execution_count": 193,
   "metadata": {},
   "outputs": [],
   "source": [
    "# age = greater than 15 and lower than 120\n",
    "df3 = df3[(df3['age'] >15) & (df3['age'] < 120)]\n",
    "\n",
    "# secs elapsed - there is no possible 0 secs elapsed on website\n",
    "df_sessions = df_sessions[df_sessions['secs_elapsed'] > 0]"
   ]
  },
  {
   "cell_type": "markdown",
   "metadata": {},
   "source": [
    "## 3.2. Filtering Columns"
   ]
  },
  {
   "cell_type": "code",
   "execution_count": 194,
   "metadata": {},
   "outputs": [],
   "source": [
    "# original datetime\n",
    "cols = ['date_account_created', 'timestamp_first_active', 'date_first_booking', 'first_active'] \n",
    "df3 = df3.drop(cols, axis=1)\n",
    "\n",
    "# id\n",
    "df3 = df3.drop(['id'], axis=1)"
   ]
  },
  {
   "cell_type": "code",
   "execution_count": 195,
   "metadata": {},
   "outputs": [],
   "source": [
    "# High Correlation\n",
    "cols = ['year_first_active', 'month_first_active', 'day_first_active', 'day_of_week_first_active',\n",
    " 'week_of_year_first_active', 'month_first_booking', 'month_account_created', \n",
    " 'year_first_booking', 'affiliate_provider', 'first_browser', 'first_device_type']\n",
    "\n",
    "df3 = df3.drop(cols , axis=1)"
   ]
  },
  {
   "cell_type": "markdown",
   "metadata": {},
   "source": [
    "# 4.0. Balanced Dataset"
   ]
  },
  {
   "cell_type": "code",
   "execution_count": 197,
   "metadata": {},
   "outputs": [
    {
     "data": {
      "text/plain": [
       "(206593, 19)"
      ]
     },
     "execution_count": 197,
     "metadata": {},
     "output_type": "execute_result"
    }
   ],
   "source": [
    "df4 = df3.copy()\n",
    "df4.shape"
   ]
  },
  {
   "cell_type": "code",
   "execution_count": 225,
   "metadata": {},
   "outputs": [
    {
     "data": {
      "text/plain": [
       "(206593, 63)"
      ]
     },
     "execution_count": 225,
     "metadata": {},
     "output_type": "execute_result"
    }
   ],
   "source": [
    "# Encoder Categorical Variables\n",
    "ohe = pp.OneHotEncoder()\n",
    "\n",
    "# Numerical\n",
    "col_num = df4.select_dtypes(include=['int64', 'float64']).columns.tolist()\n",
    "\n",
    "# Categorical\n",
    "col_cat = df4.select_dtypes(exclude=['int64', 'float64', 'datetime64[ns]']).drop(['country_destination'], axis=1).columns.tolist()\n",
    "\n",
    "# encoding\n",
    "df4_dummy = pd.DataFrame(ohe.fit_transform(df4[col_cat]).toarray(), index=df4.index)\n",
    "\n",
    "# join numerical and catgorical\n",
    "df42 = pd.concat([df4[col_num], df4_dummy], axis=1)\n",
    "df42.shape"
   ]
  },
  {
   "cell_type": "markdown",
   "metadata": {},
   "source": [
    "## 4.1. Random undersampling"
   ]
  },
  {
   "cell_type": "code",
   "execution_count": 226,
   "metadata": {},
   "outputs": [],
   "source": [
    "# define sampler\n",
    "undersampling = us.RandomUnderSampler(sampling_strategy = 'not minority', random_state = 32)\n",
    "\n",
    "# apply samples\n",
    "x_under, y_under = undersampling.fit_resample(df42, df4['country_destination'])"
   ]
  },
  {
   "cell_type": "code",
   "execution_count": 227,
   "metadata": {},
   "outputs": [
    {
     "data": {
      "text/plain": [
       "other    213\n",
       "DE       213\n",
       "IT       213\n",
       "NL       213\n",
       "NDF      213\n",
       "CA       213\n",
       "FR       213\n",
       "ES       213\n",
       "US       213\n",
       "AU       213\n",
       "PT       213\n",
       "GB       213\n",
       "Name: country_destination, dtype: int64"
      ]
     },
     "execution_count": 227,
     "metadata": {},
     "output_type": "execute_result"
    }
   ],
   "source": [
    "y_under.value_counts()"
   ]
  },
  {
   "cell_type": "markdown",
   "metadata": {},
   "source": [
    "## 4.2. Random Oversampling"
   ]
  },
  {
   "cell_type": "code",
   "execution_count": 229,
   "metadata": {},
   "outputs": [],
   "source": [
    "# define sampler\n",
    "oversampling = overs.RandomOverSampler(sampling_strategy = 'all', random_state = 32)\n",
    "\n",
    "# apply samples\n",
    "x_over, y_over = oversampling.fit_resample(df42, df4['country_destination'])"
   ]
  },
  {
   "cell_type": "code",
   "execution_count": 230,
   "metadata": {},
   "outputs": [
    {
     "data": {
      "text/plain": [
       "AU       119810\n",
       "NL       119810\n",
       "FR       119810\n",
       "IT       119810\n",
       "NDF      119810\n",
       "other    119810\n",
       "GB       119810\n",
       "DE       119810\n",
       "CA       119810\n",
       "PT       119810\n",
       "ES       119810\n",
       "US       119810\n",
       "Name: country_destination, dtype: int64"
      ]
     },
     "execution_count": 230,
     "metadata": {},
     "output_type": "execute_result"
    }
   ],
   "source": [
    "y_over.value_counts()"
   ]
  },
  {
   "cell_type": "markdown",
   "metadata": {},
   "source": [
    "## 4.3. SMOTE + TOMEKLINK"
   ]
  },
  {
   "cell_type": "code",
   "execution_count": 231,
   "metadata": {},
   "outputs": [
    {
     "data": {
      "text/plain": [
       "{'NDF': 119810,\n",
       " 'US': 60800,\n",
       " 'other': 9935,\n",
       " 'FR': 4881,\n",
       " 'IT': 2776,\n",
       " 'GB': 2285,\n",
       " 'ES': 2203,\n",
       " 'CA': 1385,\n",
       " 'DE': 1033,\n",
       " 'NL': 746,\n",
       " 'AU': 526,\n",
       " 'PT': 213}"
      ]
     },
     "execution_count": 231,
     "metadata": {},
     "output_type": "execute_result"
    }
   ],
   "source": [
    "df4['country_destination'].value_counts().to_dict()"
   ]
  },
  {
   "cell_type": "code",
   "execution_count": 248,
   "metadata": {},
   "outputs": [],
   "source": [
    "ratio_balanced =  {'NDF': 119810,\n",
    "                    'US': 104968,\n",
    "                    'other': 9935 *10,\n",
    "                    'FR': 4881 * 21,\n",
    "                    'IT': 2776 * 37,\n",
    "                    'GB': 2285 * 45,\n",
    "                    'ES': 2203 * 47,\n",
    "                    'CA': 1385 * 75,\n",
    "                    'DE': 1033 * 101,\n",
    "                    'NL': 746 * 140,\n",
    "                    'AU': 526 * 199,\n",
    "                    'PT': 213 * 492}"
   ]
  },
  {
   "cell_type": "code",
   "execution_count": 249,
   "metadata": {},
   "outputs": [],
   "source": [
    "# define sampler\n",
    "smt_sampling = comb.SMOTETomek(sampling_strategy=ratio_balanced, random_state=32, n_jobs=-1)\n",
    "\n",
    "# apply samples\n",
    "x_smt, y_smt = smt_sampling.fit_resample(df42, df4['country_destination'])"
   ]
  },
  {
   "cell_type": "code",
   "execution_count": 250,
   "metadata": {},
   "outputs": [],
   "source": [
    "# numerical data\n",
    "df43 = x_smt[col_num]\n",
    "\n",
    "# categorical data\n",
    "df44 = x_smt.drop(col_num, axis=1)\n",
    "df45 = pd.DataFrame(ohe.inverse_transform(df44), columns=col_cat, index=df44.index)\n",
    "\n",
    "# join numerical categorical\n",
    "df46 = pd.concat([df43, df45], axis=1)\n",
    "df46['country_destination'] = y_smt\n",
    "\n",
    "df46.to_csv('../data/df46.csv', index=False)"
   ]
  },
  {
   "cell_type": "code",
   "execution_count": 278,
   "metadata": {},
   "outputs": [],
   "source": [
    "df47 = pd.read_csv('../data/df46.csv')"
   ]
  },
  {
   "cell_type": "markdown",
   "metadata": {},
   "source": [
    "# 5.0. Exploratory Data Analysis (EDA)"
   ]
  },
  {
   "cell_type": "code",
   "execution_count": 89,
   "metadata": {},
   "outputs": [],
   "source": [
    "df51 = df47.copy()"
   ]
  },
  {
   "cell_type": "code",
   "execution_count": 90,
   "metadata": {},
   "outputs": [],
   "source": [
    "df52 = df2.copy()"
   ]
  },
  {
   "cell_type": "markdown",
   "metadata": {},
   "source": [
    "## 5.1. Bivariate Analysis - Hypothesis Validation (Unbalanced Dataset)"
   ]
  },
  {
   "cell_type": "markdown",
   "metadata": {},
   "source": [
    "### **H01.** Em todos os destinos, os usuários levam 15 dias, em média, para fazerem a primeira reserva no Airbnb, desde a sua primeira ativação.\n",
    "\n",
    "**Verdadeiro**, os usuários levam até 6 dias para reservar, em média. Foi utilizada a mediana, pois é menos sensível a outliers."
   ]
  },
  {
   "cell_type": "code",
   "execution_count": 129,
   "metadata": {},
   "outputs": [
    {
     "data": {
      "text/plain": [
       "<AxesSubplot:xlabel='country_destination', ylabel='days_from_first_active_until_booking'>"
      ]
     },
     "execution_count": 129,
     "metadata": {},
     "output_type": "execute_result"
    },
    {
     "data": {
      "image/png": "[encoded data removed]",
      "text/plain": [
       "<Figure size 1440x864 with 2 Axes>"
      ]
     },
     "metadata": {
      "needs_background": "light"
     },
     "output_type": "display_data"
    }
   ],
   "source": [
    "#define subplots\n",
    "fig, ax = plt.subplots(2, 1, figsize=(20, 12))\n",
    "\n",
    "aux01 = df52[['days_from_first_active_until_booking', 'country_destination']].groupby('country_destination').median().reset_index()\n",
    "sns.barplot(x='country_destination', y='days_from_first_active_until_booking', \n",
    "            data=aux01.sort_values('days_from_first_active_until_booking'), ax=ax[0])\n",
    "\n",
    "aux02 = df52[df52['country_destination'] != 'NDF']\n",
    "aux02 = aux02[['days_from_first_active_until_booking', 'country_destination']].groupby('country_destination').median().reset_index()\n",
    "sns.barplot(x='country_destination', y='days_from_first_active_until_booking', \n",
    "            data=aux02.sort_values('days_from_first_active_until_booking'), ax=ax[1])"
   ]
  },
  {
   "cell_type": "markdown",
   "metadata": {},
   "source": [
    "### **H02.** Em todos os destinos os usuários levam até 3 dias, em média, para fazer o cadastro no site.\n",
    "\n",
    "**Verdadeira**, em todos os destinos os usuários levam até 2 dias, em média, para efetivar o cadastro."
   ]
  },
  {
   "cell_type": "code",
   "execution_count": 141,
   "metadata": {},
   "outputs": [
    {
     "data": {
      "text/plain": [
       "<AxesSubplot:xlabel='country_destination', ylabel='days_from_first_active_until_account_created'>"
      ]
     },
     "execution_count": 141,
     "metadata": {},
     "output_type": "execute_result"
    },
    {
     "data": {
      "image/png": "[encoded data removed]",
      "text/plain": [
       "<Figure size 1440x864 with 1 Axes>"
      ]
     },
     "metadata": {
      "needs_background": "light"
     },
     "output_type": "display_data"
    }
   ],
   "source": [
    "#define subplots\n",
    "fig = plt.figure(figsize=(20,12))\n",
    "\n",
    "aux01 = df52[['days_from_first_active_until_account_created', 'country_destination']].groupby('country_destination').mean().reset_index()\n",
    "sns.barplot(x='country_destination', y='days_from_first_active_until_account_created', \n",
    "            data=aux01.sort_values('days_from_first_active_until_account_created'))\n",
    "\n"
   ]
  },
  {
   "cell_type": "markdown",
   "metadata": {},
   "source": [
    "### **H03.** O volume de reservas anuais feitas durante o verão aumentaram 20% para destinos dentro dos USA.\n",
    "\n",
    "**Falsa** O volume de reservas aumenta durante o verão entre os anos de 2010 e 2013 e diminui durante os anos posteriores."
   ]
  },
  {
   "cell_type": "code",
   "execution_count": 184,
   "metadata": {},
   "outputs": [
    {
     "data": {
      "text/plain": [
       "<AxesSubplot:xlabel='year_first_booking', ylabel='delta (%)'>"
      ]
     },
     "execution_count": 184,
     "metadata": {},
     "output_type": "execute_result"
    },
    {
     "data": {
      "image/png": "[encoded data removed]",
      "text/plain": [
       "<Figure size 1440x864 with 2 Axes>"
      ]
     },
     "metadata": {
      "needs_background": "light"
     },
     "output_type": "display_data"
    },
    {
     "data": {
      "text/plain": [
       "<Figure size 1440x864 with 0 Axes>"
      ]
     },
     "metadata": {},
     "output_type": "display_data"
    }
   ],
   "source": [
    "#define subplots\n",
    "fig, ax = plt.subplots(2, 1, figsize=(20, 12))\n",
    "\n",
    "# Summer lasts from June 21 until September 22,\n",
    "aux01 = df52[df52['country_destination'] == 'US']\n",
    "aux01 = aux01[((aux01['month_first_booking'] == 6) & (aux01['day_first_booking'] >= 21))  |\n",
    "              ((aux01['month_first_booking'] >= 7) & (aux01['month_first_booking'] <= 8)) |\n",
    "              ((aux01['month_first_booking'] == 9) & (aux01['day_first_booking'] <= 22))]\n",
    "\n",
    "aux02 = aux01.groupby('year_first_booking').size().reset_index().rename(columns = {0: 'count'})\n",
    "\n",
    "sns.barplot(x='year_first_booking', y='count', \n",
    "            data=aux02.sort_values('year_first_booking'), ax=ax[0])\n",
    "\n",
    "\n",
    "aux02['delta (%)'] = 100 * aux02['count'].pct_change().fillna(0)\n",
    "sns.barplot(x='year_first_booking', y='delta (%)', \n",
    "            data=aux02.sort_values('year_first_booking'), ax=ax[1])"
   ]
  },
  {
   "cell_type": "markdown",
   "metadata": {},
   "source": [
    "### **H04.** Usuários do sexo feminino fazem mais de 10% mais reservas para países fora dos USA.\n",
    "\n",
    "** Verdadeiro**, usuários do sexo feminino fazem 15% mais reservas para países fora dos USA"
   ]
  },
  {
   "cell_type": "code",
   "execution_count": 270,
   "metadata": {},
   "outputs": [
    {
     "data": {
      "text/plain": [
       "<AxesSubplot:xlabel='gender', ylabel='delta (%)'>"
      ]
     },
     "execution_count": 270,
     "metadata": {},
     "output_type": "execute_result"
    },
    {
     "data": {
      "image/png": "[encoded data removed]",
      "text/plain": [
       "<Figure size 1440x864 with 2 Axes>"
      ]
     },
     "metadata": {
      "needs_background": "light"
     },
     "output_type": "display_data"
    }
   ],
   "source": [
    "aux01 = df52[(df52['country_destination'] != 'US') & (df52['gender'] != '-unknown-')]\n",
    "\n",
    "aux01 = aux01.groupby('gender').size().reset_index().rename(columns = {0: 'count'})\n",
    "\n",
    "#define subplots\n",
    "fig, ax = plt.subplots(2, 1, figsize=(20, 12))\n",
    "\n",
    "sns.barplot(x='gender', y='count', \n",
    "            data=aux01, ax=ax[0])\n",
    "\n",
    "aux01['delta (%)'] = 100 * aux01['count'].pct_change().fillna(0)\n",
    "sns.barplot(x='gender', y='delta (%)', \n",
    "            data=aux01, ax=ax[1])"
   ]
  },
  {
   "cell_type": "markdown",
   "metadata": {},
   "source": [
    "### **H05.** O canal de Marketing Google representa 40% das reservas para países fora dos USA."
   ]
  },
  {
   "cell_type": "code",
   "execution_count": null,
   "metadata": {},
   "outputs": [],
   "source": []
  },
  {
   "cell_type": "markdown",
   "metadata": {},
   "source": [
    "### **H06.** O destino dos USA representam mais de 20% em todos os canais."
   ]
  },
  {
   "cell_type": "markdown",
   "metadata": {},
   "source": [
    "### **H07.** A idade média das pessoas é de 35 anos em todos os destinos."
   ]
  },
  {
   "cell_type": "markdown",
   "metadata": {},
   "source": [
    "### **H08.** A percentagem de usuários que usam o site na língua inglês-americano para reservar acomodações em qualquer destino é maior qu 90%."
   ]
  },
  {
   "cell_type": "markdown",
   "metadata": {},
   "source": [
    "### **H09.** O número de reservas do airbnb é crescente ou decrescente ao ongo dos anos?"
   ]
  },
  {
   "cell_type": "markdown",
   "metadata": {},
   "source": [
    "### **H10.** O número de reservas do AIRbnb é crescene ao longo dos anos"
   ]
  },
  {
   "cell_type": "markdown",
   "metadata": {},
   "source": [
    "## 5.2. Variable Impact (Balanced Dataset)"
   ]
  },
  {
   "cell_type": "code",
   "execution_count": 188,
   "metadata": {},
   "outputs": [
    {
     "name": "stderr",
     "output_type": "stream",
     "text": [
      "Summarize dataset:  80%|████████  | 33/41 [00:14<00:03,  2.02it/s, Calculate kendall correlation]/home/leonam/anaconda3/envs/airbnb/lib/python3.8/site-packages/scipy/stats/stats.py:4812: RuntimeWarning: overflow encountered in long_scalars\n",
      "  (2 * xtie * ytie) / m + x0 * y0 / (9 * m * (size - 2)))\n",
      "Summarize dataset: 100%|██████████| 404/404 [02:04<00:00,  3.25it/s, Completed]\n",
      "Generate report structure: 100%|██████████| 1/1 [00:05<00:00,  5.18s/it]\n",
      "Render HTML: 100%|██████████| 1/1 [00:07<00:00,  7.09s/it]\n",
      "Export report to file: 100%|██████████| 1/1 [00:00<00:00, 15.22it/s]\n"
     ]
    }
   ],
   "source": [
    "profile = ProfileReport(df51, title='Airbnb Booking')\n",
    "profile.to_file(output_file='airbnb_booking_statistics_after_filtering_columns.html')"
   ]
  },
  {
   "cell_type": "code",
   "execution_count": null,
   "metadata": {},
   "outputs": [],
   "source": [
    "# High Correlation\n",
    "\n",
    "# year_first_active x year_account_created\n",
    "# remove: year_first_active\n",
    "\n",
    "# month_first_active x month_account_created\n",
    "# remove: month_first_active\n",
    "\n",
    "# day_first_active x day_account_created\n",
    "# remove: day_first_active\n",
    "\n",
    "# day_of_week_first_active x day_of_week_account_created\n",
    "# remove: day_of_week_first_active\n",
    "\n",
    "# week_of_year_first_active x week_of_year_account_created\n",
    "# remove: week_of_year_first_active\n",
    "\n",
    "# month_first_booking x week_of_year_first_booking\n",
    "# remove: month_first_booking\n",
    "\n",
    "# month_account_created x week_of_year_account_created\n",
    "# remove: month_account_created\n",
    "\n",
    "# year_first_booking x year_account_created\n",
    "# remove: year_first_booking\n",
    "\n",
    "# ====================================================================================\n",
    "\n",
    "# affiliate_provider x affiliate_channel\n",
    "# remove: affiliate_provider (por possuir menos valores únicos)\n",
    "\n",
    "# first_browser x first_device_type\n",
    "# remove: first_browser (por possuir menos valores únicos)\n",
    "\n",
    "# signup_app x first_device_type\n",
    "# remove: first_device_type (por possuir menos valores únicos)"
   ]
  },
  {
   "cell_type": "markdown",
   "metadata": {},
   "source": [
    "# 5.0. Data Preparation"
   ]
  },
  {
   "cell_type": "code",
   "execution_count": 279,
   "metadata": {},
   "outputs": [],
   "source": [
    "df5 = df47.copy()"
   ]
  },
  {
   "cell_type": "code",
   "execution_count": 280,
   "metadata": {},
   "outputs": [],
   "source": [
    "# dummy variable\n",
    "df5_dummy = pd.get_dummies(df5.drop(['country_destination'], axis=1))\n",
    "\n",
    "# join id and country destination\n",
    "df5 = pd.concat([df5[['country_destination']], df5_dummy], axis=1)"
   ]
  },
  {
   "cell_type": "markdown",
   "metadata": {},
   "source": [
    "# 6.0 Feature Selection"
   ]
  },
  {
   "cell_type": "code",
   "execution_count": 281,
   "metadata": {},
   "outputs": [],
   "source": [
    "df6 = df5.copy()"
   ]
  },
  {
   "cell_type": "markdown",
   "metadata": {},
   "source": [
    "# 7.0. Machine Learning Model"
   ]
  },
  {
   "cell_type": "code",
   "execution_count": 282,
   "metadata": {},
   "outputs": [],
   "source": [
    "X = df6.drop('country_destination', axis=1)\n",
    "y = df6[['country_destination']]"
   ]
  },
  {
   "cell_type": "code",
   "execution_count": 283,
   "metadata": {},
   "outputs": [],
   "source": [
    "# Split data into train and test set\n",
    "X_train, X_test, y_train, y_test = train_test_split(X, y, test_size=0.2, random_state=32)"
   ]
  },
  {
   "cell_type": "markdown",
   "metadata": {},
   "source": [
    "### Viés de Seleção: \n",
    "\n",
    "- Utilizando train_test_split posso \"dar sorte\" de selecionar uma boa amostra do meu conjunto de dados para treino e uma pessima amostra do conjunto de dados para teste\n",
    "\n",
    "- Alguns comportamentos podem esar escondidos em amostras não selecionadas\n",
    "\n",
    "- O comportamento dos dados de treino podem estar diferentes dos dados de teste\n",
    "\n",
    "\n",
    "### Solução: \n",
    "- Amostrar o conjunto de dados mais vezes, para aumentar a chance do modelo aprender todos os padrões dos dados\n",
    "\n",
    "### **Cross-Validation**\n",
    "\n",
    "- K-Fold (5 a 10 folds)\n",
    "- leave_one-Out -> super custoso mas garante que todos os possiveis padrões dos dados sejam vistos pelo modelo\n",
    "- Não Funciona muito bem para séries temporais\n",
    "- Não Funciona muito bem com dados desbalanceados"
   ]
  },
  {
   "cell_type": "markdown",
   "metadata": {},
   "source": [
    "## 7.1.1. Baseline Model"
   ]
  },
  {
   "cell_type": "code",
   "execution_count": 284,
   "metadata": {},
   "outputs": [],
   "source": [
    "country_destination_list = df6['country_destination'].drop_duplicates().sort_values().tolist()\n",
    "country_destination_weights = df6['country_destination'].value_counts(normalize=True).sort_index().tolist()\n",
    "\n",
    "# modelo que chuta de forma aleatória\n",
    "yhat_random = random.choices(population=country_destination_list, \n",
    "                             k=len(y_test), \n",
    "                             weights= country_destination_weights)"
   ]
  },
  {
   "cell_type": "code",
   "execution_count": 285,
   "metadata": {},
   "outputs": [
    {
     "name": "stdout",
     "output_type": "stream",
     "text": [
      "Accuracy: 0.08312803715628644\n",
      "Balanced Accuracy: 0.08295987826921288\n",
      "Kappa Score: -0.00041769462848795236\n",
      "              precision    recall  f1-score   support\n",
      "\n",
      "          AU       0.08      0.08      0.08     20911\n",
      "          CA       0.08      0.08      0.08     20678\n",
      "          DE       0.09      0.09      0.09     21081\n",
      "          ES       0.08      0.08      0.08     20587\n",
      "          FR       0.08      0.08      0.08     20585\n",
      "          GB       0.08      0.08      0.08     20524\n",
      "          IT       0.08      0.08      0.08     20475\n",
      "         NDF       0.09      0.10      0.09     23857\n",
      "          NL       0.08      0.08      0.08     20889\n",
      "          PT       0.08      0.08      0.08     20908\n",
      "          US       0.08      0.08      0.08     21013\n",
      "       other       0.08      0.08      0.08     19755\n",
      "\n",
      "    accuracy                           0.08    251263\n",
      "   macro avg       0.08      0.08      0.08    251263\n",
      "weighted avg       0.08      0.08      0.08    251263\n",
      "\n"
     ]
    },
    {
     "data": {
      "text/plain": [
       "<AxesSubplot:title={'center':'Confusion Matrix'}, xlabel='Predicted label', ylabel='True label'>"
      ]
     },
     "execution_count": 285,
     "metadata": {},
     "output_type": "execute_result"
    },
    {
     "data": {
      "image/png": "[encoded data removed]",
      "text/plain": [
       "<Figure size 864x864 with 2 Axes>"
      ]
     },
     "metadata": {
      "needs_background": "light"
     },
     "output_type": "display_data"
    }
   ],
   "source": [
    "# Accuracy\n",
    "acc_random = m.accuracy_score(y_test, yhat_random)\n",
    "print('Accuracy: {}'.format(acc_random))\n",
    "\n",
    "# Balanced Accuracy\n",
    "balanced_acc_random = m.balanced_accuracy_score(y_test, yhat_random)\n",
    "print('Balanced Accuracy: {}'.format(balanced_acc_random))\n",
    "\n",
    "# Kappa Metrics\n",
    "kappa_random = m.cohen_kappa_score(y_test, yhat_random)\n",
    "print('Kappa Score: {}'.format(kappa_random))\n",
    "\n",
    "# Classification report\n",
    "print(m.classification_report(y_test, yhat_random, zero_division=0))\n",
    "\n",
    "# Confusion Matrix\n",
    "mt.plot_confusion_matrix(y_test, yhat_random, normalize=False, figsize=(12,12))"
   ]
  },
  {
   "cell_type": "markdown",
   "metadata": {},
   "source": [
    "## 7.1.2. Neral Network - MLP"
   ]
  },
  {
   "cell_type": "code",
   "execution_count": 286,
   "metadata": {},
   "outputs": [],
   "source": [
    "# Categorically encode labels\n",
    "ohe = pp.OneHotEncoder()\n",
    "y_train_nn = ohe.fit_transform(y_train.values.reshape(-1,1)).toarray()"
   ]
  },
  {
   "cell_type": "code",
   "execution_count": 287,
   "metadata": {},
   "outputs": [
    {
     "name": "stderr",
     "output_type": "stream",
     "text": [
      "2021-10-23 22:18:44.925158: I tensorflow/stream_executor/platform/default/dso_loader.cc:44] Successfully opened dynamic library libcuda.so.1\n",
      "2021-10-23 22:18:45.206027: I tensorflow/stream_executor/cuda/cuda_gpu_executor.cc:981] successful NUMA node read from SysFS had negative value (-1), but there must be at least one NUMA node, so returning NUMA node zero\n",
      "2021-10-23 22:18:45.263698: I tensorflow/core/common_runtime/gpu/gpu_device.cc:1561] Found device 0 with properties: \n",
      "pciBusID: 0000:01:00.0 name: NVIDIA GeForce RTX 2060 computeCapability: 7.5\n",
      "coreClock: 1.695GHz coreCount: 30 deviceMemorySize: 5.79GiB deviceMemoryBandwidth: 312.97GiB/s\n",
      "2021-10-23 22:18:45.288944: I tensorflow/stream_executor/platform/default/dso_loader.cc:44] Successfully opened dynamic library libcudart.so.10.1\n",
      "2021-10-23 22:18:45.604285: I tensorflow/stream_executor/platform/default/dso_loader.cc:44] Successfully opened dynamic library libcublas.so.10\n",
      "2021-10-23 22:18:45.786237: I tensorflow/stream_executor/platform/default/dso_loader.cc:44] Successfully opened dynamic library libcufft.so.10\n",
      "2021-10-23 22:18:45.876893: I tensorflow/stream_executor/platform/default/dso_loader.cc:44] Successfully opened dynamic library libcurand.so.10\n",
      "2021-10-23 22:18:46.210775: I tensorflow/stream_executor/platform/default/dso_loader.cc:44] Successfully opened dynamic library libcusolver.so.10\n",
      "2021-10-23 22:18:46.268917: I tensorflow/stream_executor/platform/default/dso_loader.cc:44] Successfully opened dynamic library libcusparse.so.10\n",
      "2021-10-23 22:18:47.307544: I tensorflow/stream_executor/platform/default/dso_loader.cc:44] Successfully opened dynamic library libcudnn.so.7\n",
      "2021-10-23 22:18:47.308157: I tensorflow/stream_executor/cuda/cuda_gpu_executor.cc:981] successful NUMA node read from SysFS had negative value (-1), but there must be at least one NUMA node, so returning NUMA node zero\n",
      "2021-10-23 22:18:47.309539: I tensorflow/stream_executor/cuda/cuda_gpu_executor.cc:981] successful NUMA node read from SysFS had negative value (-1), but there must be at least one NUMA node, so returning NUMA node zero\n",
      "2021-10-23 22:18:47.324374: I tensorflow/core/common_runtime/gpu/gpu_device.cc:1703] Adding visible gpu devices: 0\n",
      "2021-10-23 22:18:47.501290: I tensorflow/core/platform/cpu_feature_guard.cc:143] Your CPU supports instructions that this TensorFlow binary was not compiled to use: SSE4.1 SSE4.2 AVX AVX2 FMA\n",
      "2021-10-23 22:18:48.622464: I tensorflow/core/platform/profile_utils/cpu_utils.cc:102] CPU Frequency: 3699850000 Hz\n",
      "2021-10-23 22:18:48.669700: I tensorflow/compiler/xla/service/service.cc:168] XLA service 0x56515fcc66a0 initialized for platform Host (this does not guarantee that XLA will be used). Devices:\n",
      "2021-10-23 22:18:48.669733: I tensorflow/compiler/xla/service/service.cc:176]   StreamExecutor device (0): Host, Default Version\n",
      "2021-10-23 22:18:49.018807: I tensorflow/stream_executor/cuda/cuda_gpu_executor.cc:981] successful NUMA node read from SysFS had negative value (-1), but there must be at least one NUMA node, so returning NUMA node zero\n",
      "2021-10-23 22:18:49.019519: I tensorflow/compiler/xla/service/service.cc:168] XLA service 0x565160e766a0 initialized for platform CUDA (this does not guarantee that XLA will be used). Devices:\n",
      "2021-10-23 22:18:49.019549: I tensorflow/compiler/xla/service/service.cc:176]   StreamExecutor device (0): NVIDIA GeForce RTX 2060, Compute Capability 7.5\n",
      "2021-10-23 22:18:49.042724: I tensorflow/stream_executor/cuda/cuda_gpu_executor.cc:981] successful NUMA node read from SysFS had negative value (-1), but there must be at least one NUMA node, so returning NUMA node zero\n",
      "2021-10-23 22:18:49.043822: I tensorflow/core/common_runtime/gpu/gpu_device.cc:1561] Found device 0 with properties: \n",
      "pciBusID: 0000:01:00.0 name: NVIDIA GeForce RTX 2060 computeCapability: 7.5\n",
      "coreClock: 1.695GHz coreCount: 30 deviceMemorySize: 5.79GiB deviceMemoryBandwidth: 312.97GiB/s\n",
      "2021-10-23 22:18:49.043987: I tensorflow/stream_executor/platform/default/dso_loader.cc:44] Successfully opened dynamic library libcudart.so.10.1\n",
      "2021-10-23 22:18:49.044068: I tensorflow/stream_executor/platform/default/dso_loader.cc:44] Successfully opened dynamic library libcublas.so.10\n",
      "2021-10-23 22:18:49.044143: I tensorflow/stream_executor/platform/default/dso_loader.cc:44] Successfully opened dynamic library libcufft.so.10\n",
      "2021-10-23 22:18:49.044226: I tensorflow/stream_executor/platform/default/dso_loader.cc:44] Successfully opened dynamic library libcurand.so.10\n",
      "2021-10-23 22:18:49.044301: I tensorflow/stream_executor/platform/default/dso_loader.cc:44] Successfully opened dynamic library libcusolver.so.10\n",
      "2021-10-23 22:18:49.044375: I tensorflow/stream_executor/platform/default/dso_loader.cc:44] Successfully opened dynamic library libcusparse.so.10\n",
      "2021-10-23 22:18:49.044448: I tensorflow/stream_executor/platform/default/dso_loader.cc:44] Successfully opened dynamic library libcudnn.so.7\n",
      "2021-10-23 22:18:49.044698: I tensorflow/stream_executor/cuda/cuda_gpu_executor.cc:981] successful NUMA node read from SysFS had negative value (-1), but there must be at least one NUMA node, so returning NUMA node zero\n",
      "2021-10-23 22:18:49.045878: I tensorflow/stream_executor/cuda/cuda_gpu_executor.cc:981] successful NUMA node read from SysFS had negative value (-1), but there must be at least one NUMA node, so returning NUMA node zero\n",
      "2021-10-23 22:18:49.046874: I tensorflow/core/common_runtime/gpu/gpu_device.cc:1703] Adding visible gpu devices: 0\n",
      "2021-10-23 22:18:49.051155: I tensorflow/stream_executor/platform/default/dso_loader.cc:44] Successfully opened dynamic library libcudart.so.10.1\n",
      "2021-10-23 22:18:49.064500: I tensorflow/core/common_runtime/gpu/gpu_device.cc:1102] Device interconnect StreamExecutor with strength 1 edge matrix:\n",
      "2021-10-23 22:18:49.064574: I tensorflow/core/common_runtime/gpu/gpu_device.cc:1108]      0 \n",
      "2021-10-23 22:18:49.082466: I tensorflow/core/common_runtime/gpu/gpu_device.cc:1121] 0:   N \n",
      "2021-10-23 22:18:49.083075: I tensorflow/stream_executor/cuda/cuda_gpu_executor.cc:981] successful NUMA node read from SysFS had negative value (-1), but there must be at least one NUMA node, so returning NUMA node zero\n",
      "2021-10-23 22:18:49.084383: I tensorflow/stream_executor/cuda/cuda_gpu_executor.cc:981] successful NUMA node read from SysFS had negative value (-1), but there must be at least one NUMA node, so returning NUMA node zero\n",
      "2021-10-23 22:18:49.095424: I tensorflow/core/common_runtime/gpu/gpu_device.cc:1247] Created TensorFlow device (/job:localhost/replica:0/task:0/device:GPU:0 with 5043 MB memory) -> physical GPU (device: 0, name: NVIDIA GeForce RTX 2060, pci bus id: 0000:01:00.0, compute capability: 7.5)\n"
     ]
    },
    {
     "name": "stdout",
     "output_type": "stream",
     "text": [
      "Epoch 1/10\n"
     ]
    },
    {
     "name": "stderr",
     "output_type": "stream",
     "text": [
      "2021-10-23 22:19:06.723235: I tensorflow/stream_executor/platform/default/dso_loader.cc:44] Successfully opened dynamic library libcublas.so.10\n"
     ]
    },
    {
     "name": "stdout",
     "output_type": "stream",
     "text": [
      "1005050/1005050 [==============================] - 53s 53us/step - loss: 3.0716 - accuracy: 0.1943\n",
      "Epoch 2/10\n",
      "1005050/1005050 [==============================] - 44s 44us/step - loss: 2.1513 - accuracy: 0.2065\n",
      "Epoch 3/10\n",
      "1005050/1005050 [==============================] - 45s 45us/step - loss: 2.1478 - accuracy: 0.2092\n",
      "Epoch 4/10\n",
      "1005050/1005050 [==============================] - 45s 44us/step - loss: 2.1462 - accuracy: 0.2106\n",
      "Epoch 5/10\n",
      "1005050/1005050 [==============================] - 45s 45us/step - loss: 2.1457 - accuracy: 0.2113\n",
      "Epoch 6/10\n",
      "1005050/1005050 [==============================] - 45s 45us/step - loss: 2.1452 - accuracy: 0.2114\n",
      "Epoch 7/10\n",
      "1005050/1005050 [==============================] - 46s 45us/step - loss: 2.1449 - accuracy: 0.2120\n",
      "Epoch 8/10\n",
      "1005050/1005050 [==============================] - 50s 50us/step - loss: 2.1445 - accuracy: 0.2119\n",
      "Epoch 9/10\n",
      "1005050/1005050 [==============================] - 47s 47us/step - loss: 2.1440 - accuracy: 0.2123\n",
      "Epoch 10/10\n",
      "1005050/1005050 [==============================] - 49s 49us/step - loss: 2.1436 - accuracy: 0.2120\n"
     ]
    },
    {
     "data": {
      "text/plain": [
       "<keras.callbacks.callbacks.History at 0x7f490bd93fd0>"
      ]
     },
     "execution_count": 287,
     "metadata": {},
     "output_type": "execute_result"
    }
   ],
   "source": [
    "# model definition\n",
    "model = ml.Sequential()\n",
    "model.add(Dense(256, input_dim=X_train.shape[1], activation='relu'))\n",
    "model.add(Dense(y_train['country_destination'].nunique(), activation='softmax'))\n",
    "\n",
    "# model compile\n",
    "model.compile(optimizer='adam',\n",
    "              loss='categorical_crossentropy',\n",
    "              metrics=['accuracy'])\n",
    "\n",
    "# train model\n",
    "model.fit(X_train, y_train_nn, epochs=10, verbose=1)"
   ]
  },
  {
   "cell_type": "code",
   "execution_count": 288,
   "metadata": {},
   "outputs": [],
   "source": [
    "# prediction\n",
    "pred_nn = model.predict(X_test)\n",
    "\n",
    "# invert prediction\n",
    "yhat_nn = np.ravel(ohe.inverse_transform(pred_nn))\n",
    "\n",
    "# prediction prepare\n",
    "y_test_nn = np.ravel(y_test.to_numpy())"
   ]
  },
  {
   "cell_type": "code",
   "execution_count": 289,
   "metadata": {},
   "outputs": [
    {
     "name": "stdout",
     "output_type": "stream",
     "text": [
      "Accuracy: 0.21216414673071643\n",
      "Balanced Accuracy: 0.20112690706499012\n",
      "Kappa Score: 0.13989846990506583\n",
      "              precision    recall  f1-score   support\n",
      "\n",
      "          AU       0.17      0.39      0.24     20911\n",
      "          CA       0.11      0.26      0.15     20678\n",
      "          DE       0.00      0.00      0.00     21081\n",
      "          ES       0.09      0.01      0.01     20587\n",
      "          FR       0.10      0.09      0.09     20585\n",
      "          GB       0.00      0.00      0.00     20524\n",
      "          IT       0.00      0.00      0.00     20475\n",
      "         NDF       1.00      1.00      1.00     23857\n",
      "          NL       0.00      0.00      0.00     20889\n",
      "          PT       0.13      0.65      0.21     20908\n",
      "          US       0.16      0.01      0.01     21013\n",
      "       other       0.12      0.01      0.02     19755\n",
      "\n",
      "    accuracy                           0.21    251263\n",
      "   macro avg       0.16      0.20      0.14    251263\n",
      "weighted avg       0.17      0.21      0.16    251263\n",
      "\n"
     ]
    },
    {
     "data": {
      "text/plain": [
       "<AxesSubplot:title={'center':'Confusion Matrix'}, xlabel='Predicted label', ylabel='True label'>"
      ]
     },
     "execution_count": 289,
     "metadata": {},
     "output_type": "execute_result"
    },
    {
     "data": {
      "image/png": "[encoded data removed]",
      "text/plain": [
       "<Figure size 864x864 with 2 Axes>"
      ]
     },
     "metadata": {
      "needs_background": "light"
     },
     "output_type": "display_data"
    }
   ],
   "source": [
    "# Accuracy\n",
    "acc_nn = m.accuracy_score(y_test_nn, yhat_nn)\n",
    "print('Accuracy: {}'.format(acc_nn))\n",
    "\n",
    "# Balanced Accuracy\n",
    "balanced_acc_nn = m.balanced_accuracy_score(y_test_nn, yhat_nn)\n",
    "print('Balanced Accuracy: {}'.format(balanced_acc_nn))\n",
    "\n",
    "# Kappa Metrics\n",
    "kappa_nn = m.cohen_kappa_score(y_test_nn, yhat_nn)\n",
    "print('Kappa Score: {}'.format(kappa_nn))\n",
    "\n",
    "# Classification report\n",
    "print(m.classification_report(y_test_nn, yhat_nn, zero_division=0))\n",
    "\n",
    "# Confusion Matrix\n",
    "mt.plot_confusion_matrix(y_test_nn, yhat_nn, normalize=False, figsize=(12,12))"
   ]
  },
  {
   "cell_type": "markdown",
   "metadata": {},
   "source": [
    "## **O Problema:** \n",
    "A acurácia não é uma métrica ideal para representar a performance do modelo.\n",
    "\n",
    "### **Possíveis Causas:**\n",
    "\n",
    "* Falta de Features Representativas do Fenômeno;\n",
    "* Dados com Ruídos (\"Sujeira\")\n",
    "* Escasses de exemplos de treino para outras classes (dados desbalanceados).\n",
    "* Divergência entre o Viés dos Dados eo Viés do Modelo (è o modelo mais adequado?)\n",
    "\n",
    "## Métricas:\n",
    "\n",
    "### Accuracy:  \n",
    "- Contar Quantas <font color='red'>**Predições**</font> foram <font color='red'>**Corretas**</font> e Dividir por todas as <font color='blue'>Predições</font> <font color='blue'>Realizadas</font>  pelo modelo.\n",
    "\n",
    "\n",
    "$$Acurácia = \\frac{Número de Predições Corretas}{Número de Predições Realizadas}$$\n",
    "\n",
    "$$Acurácia = \\frac{9528}{13635} = 69.87\\%$$\n",
    "\n",
    "### Precision:  \n",
    "- Contar Quantas <font color='red'>**Predições**</font> foram <font color='red'>**Corretas**</font> e Dividir por todas as <font color='blue'>Predições</font> <font color='blue'>Realizadas</font>  pelo modelo em cada Classe.\n",
    "\n",
    "\n",
    "$$Acurácia = \\frac{Número de Predições Corretas Classe FR}{Número de Predições Classe FR}$$\n",
    "\n",
    "$$Acurácia = \\frac{3}{26} = 11.54\\%$$\n",
    "\n",
    "- Métrica útil quando uma das classes do problema possui certa prioridade.\n",
    "\n",
    "### Recall (Sensitividade): \n",
    "- Contar Quantas <font color='red'>**Predições**</font> foram <font color='red'>**Corretas**</font> e Dividir por todos os <font color='blue'>Exemplos Reais</font> de cada Classe.\n",
    "\n",
    "$$Recall = \\frac{Número de Predições Corretas Classe FR}{Total de Exemplos da Classe FR}$$\n",
    "\n",
    "$$Recall = \\frac{3}{710} = 0.42\\%$$\n",
    "\n",
    "### F1-Score: \n",
    "- Média entre Precision e Recall.\n",
    "    - Média Harmônica\n",
    "\n",
    "$$F1-Score = 2*\\frac{Precision * Recall}{precision + Recall}$$\n",
    "\n",
    "$$F1-Score = 2*\\frac{0.115 * 0.004}{0.115 * 0.004} = 0.008 $$\n",
    "\n",
    "- Calcula-se F1-score para cada uma das classes, sendo ideal para problemas de classificação binários. Para problemas multiclasse não é recomendável a utilização dessa métrica, pois terá que ser calculada para cada uma das classes.\n",
    "\n",
    "## Precisamos de <font color='red'>uma ÚNICA Métrica</font> que diga a <font color='blue'>Performance</font> do Modelo.\n",
    "\n",
    "### Balanced Accuracy: \n",
    "-Média das Acurácias de Cada Classe\n",
    "\n",
    "$$Balanced Accuracy = \\frac{1}{NClasses} \\sum_{i=1}^{NClasses} \\frac{PredCorretasClass_i}{TotalPredClass_i} $$\n",
    "\n",
    "$$Balanced Accuracy = 9\\%$$\n",
    "\n",
    "\n",
    "### Kappa Score: \n",
    "-Médir o Nível de Acordo entre 2 Avaliadores\n",
    "\n",
    "$$KappaScore= \\frac{\\#NidelDeAcordo - (\\#NivelDeAcordoAoAcaso)}{1- \\#NivelDeAcordoAoAcaso}  $$\n",
    "\n",
    "$$NivelDeAcordoAoAcaso = Prob_A * Prob_B$$\n",
    "\n"
   ]
  },
  {
   "cell_type": "markdown",
   "metadata": {},
   "source": [
    "## 7.3. NN Performance - Cross- Validation"
   ]
  },
  {
   "cell_type": "code",
   "execution_count": null,
   "metadata": {},
   "outputs": [],
   "source": [
    "# generate k-fold\n",
    "num_folds=5\n",
    "kfold = StratifiedKFold(n_splits=num_folds, shuffle=True, random_state=32)\n",
    "\n",
    "balanced_acc_list = []\n",
    "kappa_score_list = []\n",
    "\n",
    "i=1\n",
    "for train_ix, val_ix in kfold.split(X_train, y_train):\n",
    "    \n",
    "    print('Fold Number {}/{}'.format(i, num_folds))\n",
    "    # get fold\n",
    "    x_train_fold = X_train.iloc[train_ix]\n",
    "    y_train_fold = y_train.iloc[train_ix]\n",
    "\n",
    "    x_val_fold = X_train.iloc[val_ix]\n",
    "    y_val_fold = y_train.iloc[val_ix]\n",
    "\n",
    "    # Categorically encode labels\n",
    "    ohe = pp.OneHotEncoder()\n",
    "    y_train_fold_nn = ohe.fit_transform(y_train_fold.values.reshape(-1,1)).toarray()\n",
    "\n",
    "    # model definition\n",
    "    model = ml.Sequential()\n",
    "    model.add(Dense(256, input_dim=x_train_fold.shape[1], activation='relu'))\n",
    "    model.add(Dense(11, activation='softmax'))\n",
    "\n",
    "    # compile model\n",
    "    model.compile(loss='categorical_crossentropy', optimizer='adam', metrics=['accuracy'])\n",
    "\n",
    "    # training model\n",
    "    model.fit(x_train_fold, y_train_fold_nn, epochs=50, batch_size=32, verbose=0)\n",
    "\n",
    "    # prediction\n",
    "    pred_nn = model.predict(x_val_fold)\n",
    "\n",
    "    # invert prediction\n",
    "    yhat_nn = np.ravel(ohe.inverse_transform(pred_nn))\n",
    "    y_val_nn = np.ravel(y_val_fold)\n",
    "    \n",
    "    # metrics\n",
    "    # Balanced Accuracy\n",
    "    balanced_acc_list.append(m.balanced_accuracy_score(y_val_nn, yhat_nn))\n",
    "\n",
    "    # Kappa Metrics\n",
    "    kappa_score_list.append(m.cohen_kappa_score(y_val_nn, yhat_nn))\n",
    "\n",
    "    i+=1\n",
    "\n",
    "pd.DataFrame({'Model Name':\t'MLP', \n",
    "    'Balanced ACC CV': [str(np.round(np.mean(balanced_acc_list),2)) + ' +/- ' + str(np.round(np.std(balanced_acc_list),2))],\n",
    "    'KAPPA SCORE CV': [str(np.round(np.mean(kappa_score_list),2)) + ' +/- ' + str(np.round(np.std(kappa_score_list),2))]})\n"
   ]
  }
 ],
 "metadata": {
  "interpreter": {
   "hash": "0f84765da1b2dc9931eafbe129fb86bc41af4047625c61fcdcb3a7af9ecb2d34"
  },
  "kernelspec": {
   "display_name": "Python 3.8.12 64-bit ('airbnb': conda)",
   "name": "python3"
  },
  "language_info": {
   "codemirror_mode": {
    "name": "ipython",
    "version": 3
   },
   "file_extension": ".py",
   "mimetype": "text/x-python",
   "name": "python",
   "nbconvert_exporter": "python",
   "pygments_lexer": "ipython3",
   "version": "3.8.12"
  }
 },
 "nbformat": 4,
 "nbformat_minor": 2
}
