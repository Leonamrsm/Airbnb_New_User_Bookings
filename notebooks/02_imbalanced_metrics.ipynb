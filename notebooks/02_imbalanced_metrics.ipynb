{
 "cells": [
  {
   "cell_type": "markdown",
   "metadata": {},
   "source": [
    "# Entender o Problema"
   ]
  },
  {
   "cell_type": "markdown",
   "metadata": {},
   "source": [
    "- Objetivo do Problema:\n",
    "    - Predição de qual país será o primeiro destino de reserva de um novo usuário;\n",
    "    - Porque?\n",
    "        - Qual o tipo de modelo de negócio do Airbnb?\n",
    "            - Marketplace (conecta pessoas que oferecem acomodação, com pessoas que estão procurando acomodação)\n",
    "            - Oferta (pessoas oferecendo acomodação)\n",
    "                - Tamanho do portifólio\n",
    "                - Diversisdade/Densidade de Portfólio\n",
    "                - preço Médio\n",
    "            - Demanda (pessoas procurando acomodação)\n",
    "                - Número de Usuários\n",
    "                - LTV (Lifetime Value)\n",
    "                - CAC ( Client Acquisition Cost)\n",
    "\n",
    "        Gross Revenue = (Fee*Numero cliente) - CAC"
   ]
  },
  {
   "cell_type": "markdown",
   "metadata": {},
   "source": [
    "- Proposta de Solução:\n",
    "    - Modelo de Previsão do primeiro destino de um novo usuário\n",
    "    - 1.0. Predições salvas em uma tabela do banco de dados\n",
    "    - 2.0. API\n",
    "        - Input: usuário e suas características\n",
    "        - Output: usuário e suas características com a predição de destino"
   ]
  },
  {
   "cell_type": "markdown",
   "metadata": {},
   "source": [
    "# <font color='red'>Ciclo 01: End to End</font>"
   ]
  },
  {
   "cell_type": "markdown",
   "metadata": {},
   "source": [
    "# 0.0. Imports"
   ]
  },
  {
   "cell_type": "code",
   "execution_count": 2,
   "metadata": {},
   "outputs": [],
   "source": [
    "import pandas as pd\n",
    "import numpy as np\n",
    "import random\n",
    "from sklearn.model_selection import train_test_split, StratifiedKFold\n",
    "from sklearn import preprocessing as pp\n",
    "from sklearn import metrics as m\n",
    "from scikitplot import metrics as mt\n",
    "\n",
    "from keras import models as ml\n",
    "from keras.layers import Dense, Dropout\n",
    "\n",
    "import tensorflow as tf\n",
    "tf.get_logger().setLevel('INFO')\n"
   ]
  },
  {
   "cell_type": "markdown",
   "metadata": {},
   "source": [
    "## 0.1. Helper Functions"
   ]
  },
  {
   "cell_type": "markdown",
   "metadata": {},
   "source": [
    "## 0.2. Loading Data"
   ]
  },
  {
   "cell_type": "code",
   "execution_count": 3,
   "metadata": {},
   "outputs": [
    {
     "data": {
      "text/plain": [
       "(213451, 16)"
      ]
     },
     "execution_count": 3,
     "metadata": {},
     "output_type": "execute_result"
    }
   ],
   "source": [
    "df_users_raw = pd.read_csv('../data/train_users_2.csv', low_memory=True)\n",
    "\n",
    "df_sessions_raw = pd.read_csv('../data/sessions.csv', low_memory=True)\n",
    "\n",
    "df_users_raw.shape"
   ]
  },
  {
   "cell_type": "markdown",
   "metadata": {},
   "source": [
    "# 1.0 Data Description"
   ]
  },
  {
   "cell_type": "code",
   "execution_count": 4,
   "metadata": {},
   "outputs": [],
   "source": [
    "df1 = df_users_raw.copy()"
   ]
  },
  {
   "cell_type": "markdown",
   "metadata": {},
   "source": [
    "## 1.1. Data Dimension"
   ]
  },
  {
   "cell_type": "code",
   "execution_count": 5,
   "metadata": {},
   "outputs": [
    {
     "name": "stdout",
     "output_type": "stream",
     "text": [
      "Number of rows 213451\n",
      "Number of columns 16\n"
     ]
    }
   ],
   "source": [
    "print('Number of rows {}'.format(df1.shape[0]))\n",
    "print('Number of columns {}'.format(df1.shape[1]))"
   ]
  },
  {
   "cell_type": "markdown",
   "metadata": {},
   "source": [
    "## 1.2. Data Types"
   ]
  },
  {
   "cell_type": "code",
   "execution_count": 6,
   "metadata": {},
   "outputs": [
    {
     "data": {
      "text/plain": [
       "id                          object\n",
       "date_account_created        object\n",
       "timestamp_first_active       int64\n",
       "date_first_booking          object\n",
       "gender                      object\n",
       "age                        float64\n",
       "signup_method               object\n",
       "signup_flow                  int64\n",
       "language                    object\n",
       "affiliate_channel           object\n",
       "affiliate_provider          object\n",
       "first_affiliate_tracked     object\n",
       "signup_app                  object\n",
       "first_device_type           object\n",
       "first_browser               object\n",
       "country_destination         object\n",
       "dtype: object"
      ]
     },
     "execution_count": 6,
     "metadata": {},
     "output_type": "execute_result"
    }
   ],
   "source": [
    "df1.dtypes"
   ]
  },
  {
   "cell_type": "code",
   "execution_count": 7,
   "metadata": {},
   "outputs": [
    {
     "data": {
      "text/html": [
       "<div>\n",
       "<style scoped>\n",
       "    .dataframe tbody tr th:only-of-type {\n",
       "        vertical-align: middle;\n",
       "    }\n",
       "\n",
       "    .dataframe tbody tr th {\n",
       "        vertical-align: top;\n",
       "    }\n",
       "\n",
       "    .dataframe thead th {\n",
       "        text-align: right;\n",
       "    }\n",
       "</style>\n",
       "<table border=\"1\" class=\"dataframe\">\n",
       "  <thead>\n",
       "    <tr style=\"text-align: right;\">\n",
       "      <th></th>\n",
       "      <th>0</th>\n",
       "      <th>1</th>\n",
       "      <th>2</th>\n",
       "      <th>3</th>\n",
       "      <th>4</th>\n",
       "    </tr>\n",
       "  </thead>\n",
       "  <tbody>\n",
       "    <tr>\n",
       "      <th>id</th>\n",
       "      <td>gxn3p5htnn</td>\n",
       "      <td>820tgsjxq7</td>\n",
       "      <td>4ft3gnwmtx</td>\n",
       "      <td>bjjt8pjhuk</td>\n",
       "      <td>87mebub9p4</td>\n",
       "    </tr>\n",
       "    <tr>\n",
       "      <th>date_account_created</th>\n",
       "      <td>2010-06-28</td>\n",
       "      <td>2011-05-25</td>\n",
       "      <td>2010-09-28</td>\n",
       "      <td>2011-12-05</td>\n",
       "      <td>2010-09-14</td>\n",
       "    </tr>\n",
       "    <tr>\n",
       "      <th>timestamp_first_active</th>\n",
       "      <td>20090319043255</td>\n",
       "      <td>20090523174809</td>\n",
       "      <td>20090609231247</td>\n",
       "      <td>20091031060129</td>\n",
       "      <td>20091208061105</td>\n",
       "    </tr>\n",
       "    <tr>\n",
       "      <th>date_first_booking</th>\n",
       "      <td>NaN</td>\n",
       "      <td>NaN</td>\n",
       "      <td>2010-08-02</td>\n",
       "      <td>2012-09-08</td>\n",
       "      <td>2010-02-18</td>\n",
       "    </tr>\n",
       "    <tr>\n",
       "      <th>gender</th>\n",
       "      <td>-unknown-</td>\n",
       "      <td>MALE</td>\n",
       "      <td>FEMALE</td>\n",
       "      <td>FEMALE</td>\n",
       "      <td>-unknown-</td>\n",
       "    </tr>\n",
       "    <tr>\n",
       "      <th>age</th>\n",
       "      <td>NaN</td>\n",
       "      <td>38.0</td>\n",
       "      <td>56.0</td>\n",
       "      <td>42.0</td>\n",
       "      <td>41.0</td>\n",
       "    </tr>\n",
       "    <tr>\n",
       "      <th>signup_method</th>\n",
       "      <td>facebook</td>\n",
       "      <td>facebook</td>\n",
       "      <td>basic</td>\n",
       "      <td>facebook</td>\n",
       "      <td>basic</td>\n",
       "    </tr>\n",
       "    <tr>\n",
       "      <th>signup_flow</th>\n",
       "      <td>0</td>\n",
       "      <td>0</td>\n",
       "      <td>3</td>\n",
       "      <td>0</td>\n",
       "      <td>0</td>\n",
       "    </tr>\n",
       "    <tr>\n",
       "      <th>language</th>\n",
       "      <td>en</td>\n",
       "      <td>en</td>\n",
       "      <td>en</td>\n",
       "      <td>en</td>\n",
       "      <td>en</td>\n",
       "    </tr>\n",
       "    <tr>\n",
       "      <th>affiliate_channel</th>\n",
       "      <td>direct</td>\n",
       "      <td>seo</td>\n",
       "      <td>direct</td>\n",
       "      <td>direct</td>\n",
       "      <td>direct</td>\n",
       "    </tr>\n",
       "    <tr>\n",
       "      <th>affiliate_provider</th>\n",
       "      <td>direct</td>\n",
       "      <td>google</td>\n",
       "      <td>direct</td>\n",
       "      <td>direct</td>\n",
       "      <td>direct</td>\n",
       "    </tr>\n",
       "    <tr>\n",
       "      <th>first_affiliate_tracked</th>\n",
       "      <td>untracked</td>\n",
       "      <td>untracked</td>\n",
       "      <td>untracked</td>\n",
       "      <td>untracked</td>\n",
       "      <td>untracked</td>\n",
       "    </tr>\n",
       "    <tr>\n",
       "      <th>signup_app</th>\n",
       "      <td>Web</td>\n",
       "      <td>Web</td>\n",
       "      <td>Web</td>\n",
       "      <td>Web</td>\n",
       "      <td>Web</td>\n",
       "    </tr>\n",
       "    <tr>\n",
       "      <th>first_device_type</th>\n",
       "      <td>Mac Desktop</td>\n",
       "      <td>Mac Desktop</td>\n",
       "      <td>Windows Desktop</td>\n",
       "      <td>Mac Desktop</td>\n",
       "      <td>Mac Desktop</td>\n",
       "    </tr>\n",
       "    <tr>\n",
       "      <th>first_browser</th>\n",
       "      <td>Chrome</td>\n",
       "      <td>Chrome</td>\n",
       "      <td>IE</td>\n",
       "      <td>Firefox</td>\n",
       "      <td>Chrome</td>\n",
       "    </tr>\n",
       "    <tr>\n",
       "      <th>country_destination</th>\n",
       "      <td>NDF</td>\n",
       "      <td>NDF</td>\n",
       "      <td>US</td>\n",
       "      <td>other</td>\n",
       "      <td>US</td>\n",
       "    </tr>\n",
       "  </tbody>\n",
       "</table>\n",
       "</div>"
      ],
      "text/plain": [
       "                                      0               1                2  \\\n",
       "id                           gxn3p5htnn      820tgsjxq7       4ft3gnwmtx   \n",
       "date_account_created         2010-06-28      2011-05-25       2010-09-28   \n",
       "timestamp_first_active   20090319043255  20090523174809   20090609231247   \n",
       "date_first_booking                  NaN             NaN       2010-08-02   \n",
       "gender                        -unknown-            MALE           FEMALE   \n",
       "age                                 NaN            38.0             56.0   \n",
       "signup_method                  facebook        facebook            basic   \n",
       "signup_flow                           0               0                3   \n",
       "language                             en              en               en   \n",
       "affiliate_channel                direct             seo           direct   \n",
       "affiliate_provider               direct          google           direct   \n",
       "first_affiliate_tracked       untracked       untracked        untracked   \n",
       "signup_app                          Web             Web              Web   \n",
       "first_device_type           Mac Desktop     Mac Desktop  Windows Desktop   \n",
       "first_browser                    Chrome          Chrome               IE   \n",
       "country_destination                 NDF             NDF               US   \n",
       "\n",
       "                                      3               4  \n",
       "id                           bjjt8pjhuk      87mebub9p4  \n",
       "date_account_created         2011-12-05      2010-09-14  \n",
       "timestamp_first_active   20091031060129  20091208061105  \n",
       "date_first_booking           2012-09-08      2010-02-18  \n",
       "gender                           FEMALE       -unknown-  \n",
       "age                                42.0            41.0  \n",
       "signup_method                  facebook           basic  \n",
       "signup_flow                           0               0  \n",
       "language                             en              en  \n",
       "affiliate_channel                direct          direct  \n",
       "affiliate_provider               direct          direct  \n",
       "first_affiliate_tracked       untracked       untracked  \n",
       "signup_app                          Web             Web  \n",
       "first_device_type           Mac Desktop     Mac Desktop  \n",
       "first_browser                   Firefox          Chrome  \n",
       "country_destination               other              US  "
      ]
     },
     "execution_count": 7,
     "metadata": {},
     "output_type": "execute_result"
    }
   ],
   "source": [
    "df1.head().T"
   ]
  },
  {
   "cell_type": "markdown",
   "metadata": {},
   "source": [
    "## 1.3. Check NAs"
   ]
  },
  {
   "cell_type": "code",
   "execution_count": 8,
   "metadata": {},
   "outputs": [
    {
     "data": {
      "text/plain": [
       "id                              0\n",
       "date_account_created            0\n",
       "timestamp_first_active          0\n",
       "date_first_booking         124543\n",
       "gender                          0\n",
       "age                         87990\n",
       "signup_method                   0\n",
       "signup_flow                     0\n",
       "language                        0\n",
       "affiliate_channel               0\n",
       "affiliate_provider              0\n",
       "first_affiliate_tracked      6065\n",
       "signup_app                      0\n",
       "first_device_type               0\n",
       "first_browser                   0\n",
       "country_destination             0\n",
       "dtype: int64"
      ]
     },
     "execution_count": 8,
     "metadata": {},
     "output_type": "execute_result"
    }
   ],
   "source": [
    "df1.isna().sum()"
   ]
  },
  {
   "cell_type": "code",
   "execution_count": 9,
   "metadata": {},
   "outputs": [
    {
     "data": {
      "text/plain": [
       "(68171, 16)"
      ]
     },
     "execution_count": 9,
     "metadata": {},
     "output_type": "execute_result"
    }
   ],
   "source": [
    "# remiove missing values\n",
    "df1 = df1.dropna()\n",
    "df1.shape"
   ]
  },
  {
   "cell_type": "markdown",
   "metadata": {},
   "source": [
    "## 1.4. Change Types"
   ]
  },
  {
   "cell_type": "code",
   "execution_count": 10,
   "metadata": {},
   "outputs": [],
   "source": [
    "# date_account_created\n",
    "df1['date_account_created'] = pd.to_datetime(df1['date_account_created'], format='%Y-%m-%d')\n",
    "\n",
    "# timestamp_first_active\n",
    "df1['timestamp_first_active'] = pd.to_datetime(df1['timestamp_first_active'], format='%Y%m%d%H%M%S')\n",
    "\n",
    "# date_first_booking\n",
    "df1['date_first_booking'] = pd.to_datetime(df1['date_first_booking'], format='%Y-%m-%d')\n",
    "\n",
    "# age\n",
    "df1['age'] = df1['age'].astype(int)"
   ]
  },
  {
   "cell_type": "code",
   "execution_count": 11,
   "metadata": {},
   "outputs": [
    {
     "data": {
      "text/plain": [
       "id                                 object\n",
       "date_account_created       datetime64[ns]\n",
       "timestamp_first_active     datetime64[ns]\n",
       "date_first_booking         datetime64[ns]\n",
       "gender                             object\n",
       "age                                 int64\n",
       "signup_method                      object\n",
       "signup_flow                         int64\n",
       "language                           object\n",
       "affiliate_channel                  object\n",
       "affiliate_provider                 object\n",
       "first_affiliate_tracked            object\n",
       "signup_app                         object\n",
       "first_device_type                  object\n",
       "first_browser                      object\n",
       "country_destination                object\n",
       "dtype: object"
      ]
     },
     "execution_count": 11,
     "metadata": {},
     "output_type": "execute_result"
    }
   ],
   "source": [
    "df1.dtypes"
   ]
  },
  {
   "cell_type": "markdown",
   "metadata": {},
   "source": [
    "## 1.5 Check Balanced Data"
   ]
  },
  {
   "cell_type": "code",
   "execution_count": 12,
   "metadata": {},
   "outputs": [
    {
     "data": {
      "text/plain": [
       "US       0.708864\n",
       "other    0.110854\n",
       "FR       0.054085\n",
       "IT       0.029763\n",
       "GB       0.025935\n",
       "ES       0.024864\n",
       "CA       0.015696\n",
       "DE       0.012454\n",
       "NL       0.008801\n",
       "AU       0.006366\n",
       "PT       0.002318\n",
       "Name: country_destination, dtype: float64"
      ]
     },
     "execution_count": 12,
     "metadata": {},
     "output_type": "execute_result"
    }
   ],
   "source": [
    "# response variable is the columns country_destination\n",
    "df1['country_destination'].value_counts(normalize=True)"
   ]
  },
  {
   "cell_type": "markdown",
   "metadata": {},
   "source": [
    "# 2.0. Feature Engineering"
   ]
  },
  {
   "cell_type": "code",
   "execution_count": 13,
   "metadata": {},
   "outputs": [],
   "source": [
    "df2 = df1.copy()"
   ]
  },
  {
   "cell_type": "markdown",
   "metadata": {},
   "source": [
    "# 3.0. Feature Filtering"
   ]
  },
  {
   "cell_type": "markdown",
   "metadata": {},
   "source": [
    "## 3.1. Filtering Rows"
   ]
  },
  {
   "cell_type": "markdown",
   "metadata": {},
   "source": [
    "## 3.2 Columns Selection"
   ]
  },
  {
   "cell_type": "markdown",
   "metadata": {},
   "source": [
    "# 4.0. Exploratory Data Analysis"
   ]
  },
  {
   "cell_type": "markdown",
   "metadata": {},
   "source": [
    "# 5.0. Data Preparation"
   ]
  },
  {
   "cell_type": "code",
   "execution_count": 14,
   "metadata": {},
   "outputs": [],
   "source": [
    "df5 = df2.copy()"
   ]
  },
  {
   "cell_type": "code",
   "execution_count": 15,
   "metadata": {},
   "outputs": [],
   "source": [
    "# dummy variable\n",
    "df5_dummy = pd.get_dummies(df5.drop(['id', 'country_destination'], axis=1))\n",
    "\n",
    "# join id and country destination\n",
    "df5 = pd.concat([df5[['id', 'country_destination']], df5_dummy], axis=1)"
   ]
  },
  {
   "cell_type": "markdown",
   "metadata": {},
   "source": [
    "# 6.0 Feature Selection"
   ]
  },
  {
   "cell_type": "code",
   "execution_count": 16,
   "metadata": {},
   "outputs": [],
   "source": [
    "df6 = df5.copy()\n",
    "cols_drop = ['id', 'date_account_created', 'timestamp_first_active', 'date_first_booking'] #original dates\n",
    "\n",
    "df6 = df6.drop(cols_drop, axis=1)"
   ]
  },
  {
   "cell_type": "markdown",
   "metadata": {},
   "source": [
    "# 7.0. Machine Learning Model"
   ]
  },
  {
   "cell_type": "code",
   "execution_count": 17,
   "metadata": {},
   "outputs": [],
   "source": [
    "X = df6.drop('country_destination', axis=1)\n",
    "y = df6[['country_destination']]"
   ]
  },
  {
   "cell_type": "code",
   "execution_count": 18,
   "metadata": {},
   "outputs": [],
   "source": [
    "# Split data into train and test set\n",
    "X_train, X_test, y_train, y_test = train_test_split(X, y, test_size=0.2, random_state=32)"
   ]
  },
  {
   "cell_type": "markdown",
   "metadata": {},
   "source": [
    "### Viés de Seleção: \n",
    "\n",
    "- Utilizando train_test_split posso \"dar sorte\" de selecionar uma boa amostra do meu conjunto de dados para treino e uma pessima amostra do conjunto de dados para teste\n",
    "\n",
    "- Alguns comportamentos podem esar escondidos em amostras não selecionadas\n",
    "\n",
    "- O comportamento dos dados de treino podem estar diferentes dos dados de teste\n",
    "\n",
    "\n",
    "### Solução: \n",
    "- Amostrar o conjunto de dados mais vezes, para aumentar a chance do modelo aprender todos os padrões dos dados\n",
    "\n",
    "### **Cross-Validation**\n",
    "\n",
    "- K-Fold (5 a 10 folds)\n",
    "- leave_one-Out -> super custoso mas garante que todos os possiveis padrões dos dados sejam vistos pelo modelo\n",
    "- Não Funciona muito bem para séries temporais\n",
    "- Não Funciona muito bem com dados desbalanceados"
   ]
  },
  {
   "cell_type": "markdown",
   "metadata": {},
   "source": [
    "## 7.1.1. Baseline Model"
   ]
  },
  {
   "cell_type": "code",
   "execution_count": 19,
   "metadata": {},
   "outputs": [],
   "source": [
    "country_destination_list = df6['country_destination'].drop_duplicates().sort_values().tolist()\n",
    "country_destination_weights = df6['country_destination'].value_counts(normalize=True).sort_index().tolist()\n",
    "\n",
    "# modelo que chuta de forma aleatória\n",
    "yhat_random = random.choices(population=country_destination_list, \n",
    "                             k=len(y_test), \n",
    "                             weights= country_destination_weights)"
   ]
  },
  {
   "cell_type": "code",
   "execution_count": 20,
   "metadata": {},
   "outputs": [
    {
     "name": "stdout",
     "output_type": "stream",
     "text": [
      "Accuracy: 0.5177851118445178\n",
      "Balanced Accuracy: 0.09124728874053778\n",
      "Kappa Score: 0.000850240153362325\n",
      "              precision    recall  f1-score   support\n",
      "\n",
      "          AU       0.00      0.00      0.00       101\n",
      "          CA       0.00      0.00      0.00       214\n",
      "          DE       0.03      0.03      0.03       170\n",
      "          ES       0.02      0.01      0.01       345\n",
      "          FR       0.05      0.06      0.06       710\n",
      "          GB       0.03      0.03      0.03       344\n",
      "          IT       0.03      0.03      0.03       423\n",
      "          NL       0.02      0.02      0.02       128\n",
      "          PT       0.00      0.00      0.00        36\n",
      "          US       0.70      0.71      0.71      9624\n",
      "       other       0.12      0.12      0.12      1540\n",
      "\n",
      "    accuracy                           0.52     13635\n",
      "   macro avg       0.09      0.09      0.09     13635\n",
      "weighted avg       0.52      0.52      0.52     13635\n",
      "\n"
     ]
    },
    {
     "data": {
      "text/plain": [
       "<AxesSubplot:title={'center':'Confusion Matrix'}, xlabel='Predicted label', ylabel='True label'>"
      ]
     },
     "execution_count": 20,
     "metadata": {},
     "output_type": "execute_result"
    },
    {
     "data": {
      "image/png": "[encoded data removed]",
      "text/plain": [
       "<Figure size 864x864 with 2 Axes>"
      ]
     },
     "metadata": {
      "needs_background": "light"
     },
     "output_type": "display_data"
    }
   ],
   "source": [
    "# Accuracy\n",
    "acc_random = m.accuracy_score(y_test, yhat_random)\n",
    "print('Accuracy: {}'.format(acc_random))\n",
    "\n",
    "# Balanced Accuracy\n",
    "balanced_acc_random = m.balanced_accuracy_score(y_test, yhat_random)\n",
    "print('Balanced Accuracy: {}'.format(balanced_acc_random))\n",
    "\n",
    "# Kappa Metrics\n",
    "kappa_random = m.cohen_kappa_score(y_test, yhat_random)\n",
    "print('Kappa Score: {}'.format(kappa_random))\n",
    "\n",
    "# Classification report\n",
    "print(m.classification_report(y_test, yhat_random, zero_division=0))\n",
    "\n",
    "# Confusion Matrix\n",
    "mt.plot_confusion_matrix(y_test, yhat_random, normalize=False, figsize=(12,12))"
   ]
  },
  {
   "cell_type": "markdown",
   "metadata": {},
   "source": [
    "## 7.1.2. Neral Network - MLP"
   ]
  },
  {
   "cell_type": "code",
   "execution_count": 21,
   "metadata": {},
   "outputs": [],
   "source": [
    "# Categorically encode labels\n",
    "ohe = pp.OneHotEncoder()\n",
    "y_train_nn = ohe.fit_transform(y_train.values.reshape(-1,1)).toarray()"
   ]
  },
  {
   "cell_type": "code",
   "execution_count": 26,
   "metadata": {},
   "outputs": [
    {
     "name": "stdout",
     "output_type": "stream",
     "text": [
      "Epoch 1/50\n",
      "54536/54536 [==============================] - 3s 46us/step - loss: 1.4125 - accuracy: 0.6998\n",
      "Epoch 2/50\n",
      "54536/54536 [==============================] - 2s 43us/step - loss: 1.2805 - accuracy: 0.7081\n",
      "Epoch 3/50\n",
      "54536/54536 [==============================] - 2s 43us/step - loss: 1.2316 - accuracy: 0.7080\n",
      "Epoch 4/50\n",
      "54536/54536 [==============================] - 2s 44us/step - loss: 1.1940 - accuracy: 0.7084\n",
      "Epoch 5/50\n",
      "54536/54536 [==============================] - 2s 44us/step - loss: 1.1691 - accuracy: 0.7086\n",
      "Epoch 6/50\n",
      "54536/54536 [==============================] - 3s 46us/step - loss: 1.1518 - accuracy: 0.7089\n",
      "Epoch 7/50\n",
      "54536/54536 [==============================] - 2s 44us/step - loss: 1.1442 - accuracy: 0.7088\n",
      "Epoch 8/50\n",
      "54536/54536 [==============================] - 2s 43us/step - loss: 1.1366 - accuracy: 0.7094\n",
      "Epoch 9/50\n",
      "54536/54536 [==============================] - 2s 45us/step - loss: 1.1343 - accuracy: 0.7095\n",
      "Epoch 10/50\n",
      "54536/54536 [==============================] - 2s 44us/step - loss: 1.1349 - accuracy: 0.7093\n",
      "Epoch 11/50\n",
      "54536/54536 [==============================] - 2s 44us/step - loss: 1.1319 - accuracy: 0.7096\n",
      "Epoch 12/50\n",
      "54536/54536 [==============================] - 2s 44us/step - loss: 1.1317 - accuracy: 0.7095\n",
      "Epoch 13/50\n",
      "54536/54536 [==============================] - 2s 43us/step - loss: 1.1292 - accuracy: 0.7096\n",
      "Epoch 14/50\n",
      "54536/54536 [==============================] - 2s 43us/step - loss: 1.1286 - accuracy: 0.7097\n",
      "Epoch 15/50\n",
      "54536/54536 [==============================] - 2s 43us/step - loss: 1.1282 - accuracy: 0.7096\n",
      "Epoch 16/50\n",
      "54536/54536 [==============================] - 2s 43us/step - loss: 1.1260 - accuracy: 0.7097\n",
      "Epoch 17/50\n",
      "54536/54536 [==============================] - 2s 43us/step - loss: 1.1263 - accuracy: 0.7098\n",
      "Epoch 18/50\n",
      "54536/54536 [==============================] - 2s 43us/step - loss: 1.1255 - accuracy: 0.7098\n",
      "Epoch 19/50\n",
      "54536/54536 [==============================] - 2s 44us/step - loss: 1.1239 - accuracy: 0.7098\n",
      "Epoch 20/50\n",
      "54536/54536 [==============================] - 2s 43us/step - loss: 1.1225 - accuracy: 0.7099\n",
      "Epoch 21/50\n",
      "54536/54536 [==============================] - 2s 43us/step - loss: 1.1219 - accuracy: 0.7099\n",
      "Epoch 22/50\n",
      "54536/54536 [==============================] - 2s 43us/step - loss: 1.1203 - accuracy: 0.7097\n",
      "Epoch 23/50\n",
      "54536/54536 [==============================] - 2s 43us/step - loss: 1.1196 - accuracy: 0.7099\n",
      "Epoch 24/50\n",
      "54536/54536 [==============================] - 2s 43us/step - loss: 1.1195 - accuracy: 0.7099\n",
      "Epoch 25/50\n",
      "54536/54536 [==============================] - 2s 43us/step - loss: 1.1181 - accuracy: 0.7101\n",
      "Epoch 26/50\n",
      "54536/54536 [==============================] - 2s 42us/step - loss: 1.1171 - accuracy: 0.7100\n",
      "Epoch 27/50\n",
      "54536/54536 [==============================] - 2s 44us/step - loss: 1.1174 - accuracy: 0.7101\n",
      "Epoch 28/50\n",
      "54536/54536 [==============================] - 2s 42us/step - loss: 1.1163 - accuracy: 0.7102\n",
      "Epoch 29/50\n",
      "54536/54536 [==============================] - 2s 43us/step - loss: 1.1150 - accuracy: 0.7102\n",
      "Epoch 30/50\n",
      "54536/54536 [==============================] - 2s 42us/step - loss: 1.1142 - accuracy: 0.7103\n",
      "Epoch 31/50\n",
      "54536/54536 [==============================] - 2s 43us/step - loss: 1.1131 - accuracy: 0.7101\n",
      "Epoch 32/50\n",
      "54536/54536 [==============================] - 2s 43us/step - loss: 1.1129 - accuracy: 0.7102\n",
      "Epoch 33/50\n",
      "54536/54536 [==============================] - 2s 42us/step - loss: 1.1119 - accuracy: 0.7104\n",
      "Epoch 34/50\n",
      "54536/54536 [==============================] - 2s 43us/step - loss: 1.1110 - accuracy: 0.7104\n",
      "Epoch 35/50\n",
      "54536/54536 [==============================] - 2s 42us/step - loss: 1.1105 - accuracy: 0.7104\n",
      "Epoch 36/50\n",
      "54536/54536 [==============================] - 2s 43us/step - loss: 1.1091 - accuracy: 0.7105\n",
      "Epoch 37/50\n",
      "54536/54536 [==============================] - 2s 44us/step - loss: 1.1084 - accuracy: 0.7106\n",
      "Epoch 38/50\n",
      "54536/54536 [==============================] - 2s 43us/step - loss: 1.1081 - accuracy: 0.7107\n",
      "Epoch 39/50\n",
      "54536/54536 [==============================] - 2s 43us/step - loss: 1.1079 - accuracy: 0.7106\n",
      "Epoch 40/50\n",
      "54536/54536 [==============================] - 2s 42us/step - loss: 1.1067 - accuracy: 0.7108\n",
      "Epoch 41/50\n",
      "54536/54536 [==============================] - 2s 42us/step - loss: 1.1061 - accuracy: 0.7109\n",
      "Epoch 42/50\n",
      "54536/54536 [==============================] - 2s 42us/step - loss: 1.1058 - accuracy: 0.7108\n",
      "Epoch 43/50\n",
      "54536/54536 [==============================] - 2s 42us/step - loss: 1.1042 - accuracy: 0.7110\n",
      "Epoch 44/50\n",
      "54536/54536 [==============================] - 2s 43us/step - loss: 1.1044 - accuracy: 0.7112\n",
      "Epoch 45/50\n",
      "54536/54536 [==============================] - 2s 43us/step - loss: 1.1041 - accuracy: 0.7109\n",
      "Epoch 46/50\n",
      "54536/54536 [==============================] - 2s 42us/step - loss: 1.1034 - accuracy: 0.7110\n",
      "Epoch 47/50\n",
      "54536/54536 [==============================] - 2s 43us/step - loss: 1.1027 - accuracy: 0.7113\n",
      "Epoch 48/50\n",
      "54536/54536 [==============================] - 2s 43us/step - loss: 1.1021 - accuracy: 0.7113\n",
      "Epoch 49/50\n",
      "54536/54536 [==============================] - 2s 44us/step - loss: 1.1015 - accuracy: 0.7113\n",
      "Epoch 50/50\n",
      "54536/54536 [==============================] - 2s 43us/step - loss: 1.1017 - accuracy: 0.7113\n"
     ]
    },
    {
     "data": {
      "text/plain": [
       "<keras.callbacks.callbacks.History at 0x7f2ee028ef90>"
      ]
     },
     "execution_count": 26,
     "metadata": {},
     "output_type": "execute_result"
    }
   ],
   "source": [
    "# moel definition\n",
    "model = ml.Sequential()\n",
    "model.add(Dense(256, input_dim=X_train.shape[1], activation='relu'))\n",
    "model.add(Dense(11, activation='softmax'))\n",
    "\n",
    "# model compile\n",
    "model.compile(optimizer='adam',\n",
    "              loss='categorical_crossentropy',\n",
    "              metrics=['accuracy'])\n",
    "\n",
    "# train model\n",
    "model.fit(X_train, y_train_nn, epochs=50, verbose=1)"
   ]
  },
  {
   "cell_type": "code",
   "execution_count": 27,
   "metadata": {},
   "outputs": [],
   "source": [
    "# prediction\n",
    "pred_nn = model.predict(X_test)\n",
    "\n",
    "# invert prediction\n",
    "yhat_nn = np.ravel(ohe.inverse_transform(pred_nn))\n",
    "\n",
    "# prediction prepare\n",
    "y_test_nn = np.ravel(y_test.to_numpy())"
   ]
  },
  {
   "cell_type": "code",
   "execution_count": 35,
   "metadata": {},
   "outputs": [
    {
     "data": {
      "text/plain": [
       "(13635, 1)"
      ]
     },
     "execution_count": 35,
     "metadata": {},
     "output_type": "execute_result"
    }
   ],
   "source": [
    "ohe.inverse_transform(pred_nn)"
   ]
  },
  {
   "cell_type": "code",
   "execution_count": 30,
   "metadata": {},
   "outputs": [
    {
     "name": "stdout",
     "output_type": "stream",
     "text": [
      "Accuracy: 0.7037037037037037\n",
      "Balanced Accuracy: 0.09169517236980386\n",
      "Kappa Score: 0.0014100346858162416\n",
      "              precision    recall  f1-score   support\n",
      "\n",
      "          AU       0.00      0.00      0.00       101\n",
      "          CA       0.00      0.00      0.00       214\n",
      "          DE       0.50      0.01      0.01       170\n",
      "          ES       0.00      0.00      0.00       345\n",
      "          FR       0.25      0.00      0.01       710\n",
      "          GB       0.00      0.00      0.00       344\n",
      "          IT       0.00      0.00      0.00       423\n",
      "          NL       0.00      0.00      0.00       128\n",
      "          PT       0.00      0.00      0.00        36\n",
      "          US       0.71      1.00      0.83      9624\n",
      "       other       0.16      0.00      0.01      1540\n",
      "\n",
      "    accuracy                           0.70     13635\n",
      "   macro avg       0.15      0.09      0.08     13635\n",
      "weighted avg       0.54      0.70      0.58     13635\n",
      "\n"
     ]
    },
    {
     "data": {
      "text/plain": [
       "<AxesSubplot:title={'center':'Confusion Matrix'}, xlabel='Predicted label', ylabel='True label'>"
      ]
     },
     "execution_count": 30,
     "metadata": {},
     "output_type": "execute_result"
    },
    {
     "data": {
      "image/png": "[encoded data removed]",
      "text/plain": [
       "<Figure size 864x864 with 2 Axes>"
      ]
     },
     "metadata": {
      "needs_background": "light"
     },
     "output_type": "display_data"
    }
   ],
   "source": [
    "# Accuracy\n",
    "acc_nn = m.accuracy_score(y_test_nn, yhat_nn)\n",
    "print('Accuracy: {}'.format(acc_nn))\n",
    "\n",
    "# Balanced Accuracy\n",
    "balanced_acc_nn = m.balanced_accuracy_score(y_test_nn, yhat_nn)\n",
    "print('Balanced Accuracy: {}'.format(balanced_acc_nn))\n",
    "\n",
    "# Kappa Metrics\n",
    "kappa_nn = m.cohen_kappa_score(y_test_nn, yhat_nn)\n",
    "print('Kappa Score: {}'.format(kappa_nn))\n",
    "\n",
    "# Classification report\n",
    "print(m.classification_report(y_test_nn, yhat_nn, zero_division=0))\n",
    "\n",
    "# Confusion Matrix\n",
    "mt.plot_confusion_matrix(y_test_nn, yhat_nn, normalize=False, figsize=(12,12))"
   ]
  },
  {
   "cell_type": "markdown",
   "metadata": {},
   "source": [
    "## **O Problema:** \n",
    "A acurácia não é uma métrica ideal para representar a performance do modelo.\n",
    "\n",
    "### **Possíveis Causas:**\n",
    "\n",
    "* Falta de Features Representativas do Fenômeno;\n",
    "* Dados com Ruídos (\"Sujeira\")\n",
    "* Escasses de exemplos de treino para outras classes (dados desbalanceados).\n",
    "* Divergência entre o Viés dos Dados eo Viés do Modelo (è o modelo mais adequado?)\n",
    "\n",
    "## Métricas:\n",
    "\n",
    "### Accuracy:  \n",
    "- Contar Quantas <font color='red'>**Predições**</font> foram <font color='red'>**Corretas**</font> e Dividir por todas as <font color='blue'>Predições</font> <font color='blue'>Realizadas</font>  pelo modelo.\n",
    "\n",
    "\n",
    "$$Acurácia = \\frac{Número de Predições Corretas}{Número de Predições Realizadas}$$\n",
    "\n",
    "$$Acurácia = \\frac{9528}{13635} = 69.87\\%$$\n",
    "\n",
    "### Precision:  \n",
    "- Contar Quantas <font color='red'>**Predições**</font> foram <font color='red'>**Corretas**</font> e Dividir por todas as <font color='blue'>Predições</font> <font color='blue'>Realizadas</font>  pelo modelo em cada Classe.\n",
    "\n",
    "\n",
    "$$Acurácia = \\frac{Número de Predições Corretas Classe FR}{Número de Predições Classe FR}$$\n",
    "\n",
    "$$Acurácia = \\frac{3}{26} = 11.54\\%$$\n",
    "\n",
    "- Métrica útil quando uma das classes do problema possui certa prioridade.\n",
    "\n",
    "### Recall (Sensitividade): \n",
    "- Contar Quantas <font color='red'>**Predições**</font> foram <font color='red'>**Corretas**</font> e Dividir por todos os <font color='blue'>Exemplos Reais</font> de cada Classe.\n",
    "\n",
    "$$Recall = \\frac{Número de Predições Corretas Classe FR}{Total de Exemplos da Classe FR}$$\n",
    "\n",
    "$$Recall = \\frac{3}{710} = 0.42\\%$$\n",
    "\n",
    "### F1-Score: \n",
    "- Média entre Precision e Recall.\n",
    "    - Média Harmônica\n",
    "\n",
    "$$F1-Score = 2*\\frac{Precision * Recall}{precision + Recall}$$\n",
    "\n",
    "$$F1-Score = 2*\\frac{0.115 * 0.004}{0.115 * 0.004} = 0.008 $$\n",
    "\n",
    "- Calcula-se F1-score para cada uma das classes, sendo ideal para problemas de classificação binários. Para problemas multiclasse não é recomendável a utilização dessa métrica, pois terá que ser calculada para cada uma das classes.\n",
    "\n",
    "## Precisamos de <font color='red'>uma ÚNICA Métrica</font> que diga a <font color='blue'>Performance</font> do Modelo.\n",
    "\n",
    "### Balanced Accuracy: \n",
    "-Média das Acurácias de Cada Classe\n",
    "\n",
    "$$Balanced Accuracy = \\frac{1}{NClasses} \\sum_{i=1}^{NClasses} \\frac{PredCorretasClass_i}{TotalPredClass_i} $$\n",
    "\n",
    "$$Balanced Accuracy = 9\\%$$\n",
    "\n",
    "\n",
    "### Kappa Score: \n",
    "-Médir o Nível de Acordo entre 2 Avaliadores\n",
    "\n",
    "$$KappaScore= \\frac{\\#NidelDeAcordo - (\\#NivelDeAcordoAoAcaso)}{1- \\#NivelDeAcordoAoAcaso}  $$\n",
    "\n",
    "$$NivelDeAcordoAoAcaso = Prob_A * Prob_B$$\n",
    "\n"
   ]
  },
  {
   "cell_type": "markdown",
   "metadata": {},
   "source": [
    "## 7.3. NN Performance - Cross- Validation"
   ]
  },
  {
   "cell_type": "code",
   "execution_count": 45,
   "metadata": {},
   "outputs": [
    {
     "name": "stdout",
     "output_type": "stream",
     "text": [
      "Fold Number 1/5\n",
      "Fold Number 2/5\n",
      "Fold Number 3/5\n",
      "Fold Number 4/5\n",
      "Fold Number 5/5\n"
     ]
    },
    {
     "data": {
      "text/html": [
       "<div>\n",
       "<style scoped>\n",
       "    .dataframe tbody tr th:only-of-type {\n",
       "        vertical-align: middle;\n",
       "    }\n",
       "\n",
       "    .dataframe tbody tr th {\n",
       "        vertical-align: top;\n",
       "    }\n",
       "\n",
       "    .dataframe thead th {\n",
       "        text-align: right;\n",
       "    }\n",
       "</style>\n",
       "<table border=\"1\" class=\"dataframe\">\n",
       "  <thead>\n",
       "    <tr style=\"text-align: right;\">\n",
       "      <th></th>\n",
       "      <th>Model Name</th>\n",
       "      <th>Balanced ACC CV</th>\n",
       "      <th>KAPPA SCORE CV</th>\n",
       "    </tr>\n",
       "  </thead>\n",
       "  <tbody>\n",
       "    <tr>\n",
       "      <th>0</th>\n",
       "      <td>MLP</td>\n",
       "      <td>0.09 +/- 0.0</td>\n",
       "      <td>0.0 +/- 0.0</td>\n",
       "    </tr>\n",
       "  </tbody>\n",
       "</table>\n",
       "</div>"
      ],
      "text/plain": [
       "  Model Name Balanced ACC CV KAPPA SCORE CV\n",
       "0        MLP    0.09 +/- 0.0    0.0 +/- 0.0"
      ]
     },
     "execution_count": 45,
     "metadata": {},
     "output_type": "execute_result"
    }
   ],
   "source": [
    "# generate k-fold\n",
    "num_folds=5\n",
    "kfold = StratifiedKFold(n_splits=num_folds, shuffle=True, random_state=32)\n",
    "\n",
    "balanced_acc_list = []\n",
    "kappa_score_list = []\n",
    "\n",
    "i=1\n",
    "for train_ix, val_ix in kfold.split(X_train, y_train):\n",
    "    \n",
    "    print('Fold Number {}/{}'.format(i, num_folds))\n",
    "    # get fold\n",
    "    x_train_fold = X_train.iloc[train_ix]\n",
    "    y_train_fold = y_train.iloc[train_ix]\n",
    "\n",
    "    x_val_fold = X_train.iloc[val_ix]\n",
    "    y_val_fold = y_train.iloc[val_ix]\n",
    "\n",
    "    # Categorically encode labels\n",
    "    ohe = pp.OneHotEncoder()\n",
    "    y_train_fold_nn = ohe.fit_transform(y_train_fold.values.reshape(-1,1)).toarray()\n",
    "\n",
    "    # model definition\n",
    "    model = ml.Sequential()\n",
    "    model.add(Dense(256, input_dim=x_train_fold.shape[1], activation='relu'))\n",
    "    model.add(Dense(11, activation='softmax'))\n",
    "\n",
    "    # compile model\n",
    "    model.compile(loss='categorical_crossentropy', optimizer='adam', metrics=['accuracy'])\n",
    "\n",
    "    # training model\n",
    "    model.fit(x_train_fold, y_train_fold_nn, epochs=50, batch_size=32, verbose=0)\n",
    "\n",
    "    # prediction\n",
    "    pred_nn = model.predict(x_val_fold)\n",
    "\n",
    "    # invert prediction\n",
    "    yhat_nn = np.ravel(ohe.inverse_transform(pred_nn))\n",
    "    y_val_nn = np.ravel(y_val_fold)\n",
    "    \n",
    "    # metrics\n",
    "    # Balanced Accuracy\n",
    "    balanced_acc_list.append(m.balanced_accuracy_score(y_val_nn, yhat_nn))\n",
    "\n",
    "    # Kappa Metrics\n",
    "    kappa_score_list.append(m.cohen_kappa_score(y_val_nn, yhat_nn))\n",
    "\n",
    "    i+=1\n",
    "\n",
    "pd.DataFrame({'Model Name':\t'MLP', \n",
    "    'Balanced ACC CV': [str(np.round(np.mean(balanced_acc_list),2)) + ' +/- ' + str(np.round(np.std(balanced_acc_list),2))],\n",
    "    'KAPPA SCORE CV': [str(np.round(np.mean(kappa_score_list),2)) + ' +/- ' + str(np.round(np.std(kappa_score_list),2))]})\n"
   ]
  }
 ],
 "metadata": {
  "interpreter": {
   "hash": "399c9099d0d64ead15abb642c83f798819021e5c89d110d58607f7a7a9473da2"
  },
  "kernelspec": {
   "display_name": "Python 3.7.11 64-bit ('tensorflow': conda)",
   "name": "python3"
  },
  "language_info": {
   "codemirror_mode": {
    "name": "ipython",
    "version": 3
   },
   "file_extension": ".py",
   "mimetype": "text/x-python",
   "name": "python",
   "nbconvert_exporter": "python",
   "pygments_lexer": "ipython3",
   "version": "3.7.11"
  },
  "orig_nbformat": 4
 },
 "nbformat": 4,
 "nbformat_minor": 2
}
